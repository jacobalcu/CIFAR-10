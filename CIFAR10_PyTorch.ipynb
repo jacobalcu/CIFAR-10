{
  "cells": [
    {
      "cell_type": "markdown",
      "metadata": {
        "id": "cXsJgOY6y-kd"
      },
      "source": [
        "# CIFAR-10 ConvNet\n",
        "This is my attempt at creating a ConvNet that can succesfully classify the CIFAR-10 dataset with good accuracy.\n",
        "\n",
        "### Dataset Features\n",
        "* 60,000 color images\n",
        "* 32x32 image size\n",
        "* 3 channels (RGB)\n",
        "* 10 Classes (Airplane, Automobile, Bird, Cat, Deer, Dog, Frog, Horse, Ship, Truck)\n",
        "* 50,000 images in training set (5,000 per class)\n",
        "* 10,000 images in testing set (1,000 per class)\n",
        "\n",
        "### Adjustments to make it effective\n",
        "* may require data augmentation\n",
        "* may need deeper networks (and residual connections or inception modules)\n"
      ]
    },
    {
      "cell_type": "markdown",
      "metadata": {
        "id": "sRYtLzCt0icu"
      },
      "source": [
        "## Goals\n",
        "\n",
        "Create 2 models\n",
        "* Baseline CNN (2-3 Conv Blocks, Pooling, 1-2 Dense Layers, ReLU activations) ~ > 70% accuracy\n",
        "* Intermediate CNN (batch norm, data aug, deeper architecture, learning rate scheduling, stronger optimizers) ~ > 80% accuracy"
      ]
    },
    {
      "cell_type": "markdown",
      "metadata": {
        "id": "EzOVNQPRy7h7"
      },
      "source": [
        "### 1. Load the dataset"
      ]
    },
    {
      "cell_type": "code",
      "execution_count": 1,
      "metadata": {
        "colab": {
          "base_uri": "https://localhost:8080/"
        },
        "id": "JGDNFA0Z16AW",
        "outputId": "70606d4b-bc28-458f-cb05-3a52189591aa"
      },
      "outputs": [
        {
          "output_type": "stream",
          "name": "stdout",
          "text": [
            "Downloading CIFAR-10 training data...\n",
            "CIFAR-10 training data downloaded/loaded\n",
            "Downloading CIFAR-10 testing data...\n",
            "CIFAR-10 testing data downloaded/loaded\n",
            "\n",
            "Training dataset size: 50000 images\n",
            "Test dataset size: 10000 images\n",
            "Number of training batches (batch_size=64): 782\n",
            "Number of test batches (batch_size=64): 157\n"
          ]
        }
      ],
      "source": [
        "import torch\n",
        "import torchvision\n",
        "import torchvision.transforms as transforms\n",
        "import matplotlib.pyplot as plt\n",
        "import numpy as np\n",
        "import torch.nn as nn\n",
        "import os\n",
        "\n",
        "# Define transformations that will be applied as the data is loaded\n",
        "transform = transforms.Compose([\n",
        "    transforms.ToTensor(), # Converts PIL Image or NumPy array to PyTorch Tensor,\n",
        "                           # and scales pixel values from [0, 255] to [0.0, 1.0]\n",
        "    transforms.Normalize(\n",
        "        (0.5, 0.5, 0.5),  # Mean for R, G, B channels\n",
        "        (0.5, 0.5, 0.5)   # std dev for R, G, B channels\n",
        "    )\n",
        "    # The (0.5, 0.5, 0.5) for mean and std effectively normalizes pixel values\n",
        "    # from [0, 1] to [-1, 1]. This range is often preferred for model inputs.\n",
        "    # More precise normalization values for CIFAR-10 are (0.4914, 0.4822, 0.4465) and (0.2471, 0.2435, 0.2616)\n",
        "    # but (0.5, 0.5, 0.5) is a good common start.\n",
        "])\n",
        "\n",
        "# Load the CIFAR-10 Datasets\n",
        "# torchvision.datasets.CIFAR10 will automatically download the dataset to the\n",
        "# specified root directory if it's not already present\n",
        "# Colab's default /content directory is a good place\n",
        "\n",
        "print(\"Downloading CIFAR-10 training data...\")\n",
        "train_dataset = torchvision.datasets.CIFAR10(\n",
        "    root='./data',       # Directory to save the dataset\n",
        "    train=True,          # Specify training set\n",
        "    download=True,       # Download if not already downloaded\n",
        "    transform=transform  # Apply the defined transformations\n",
        ")\n",
        "print(\"CIFAR-10 training data downloaded/loaded\")\n",
        "\n",
        "print(\"Downloading CIFAR-10 testing data...\")\n",
        "test_dataset = torchvision.datasets.CIFAR10(\n",
        "    root='./data',\n",
        "    train=False,\n",
        "    download=True,\n",
        "    transform=transform\n",
        ")\n",
        "print(\"CIFAR-10 testing data downloaded/loaded\")\n",
        "\n",
        "# Create DataLoaders\n",
        "# Provide an iterable over the dataset, handling batching, shuffling, etc\n",
        "batch_size = 64\n",
        "num_workers = os.cpu_count() # Number of subprocesses to use for data loading\n",
        "\n",
        "train_loader = torch.utils.data.DataLoader(\n",
        "    train_dataset,\n",
        "    batch_size,\n",
        "    shuffle=True,\n",
        "    num_workers=num_workers\n",
        ")\n",
        "\n",
        "test_loader = torch.utils.data.DataLoader(\n",
        "    test_dataset,\n",
        "    batch_size,\n",
        "    shuffle=False,\n",
        "    num_workers=num_workers\n",
        ")\n",
        "\n",
        "print(f\"\\nTraining dataset size: {len(train_dataset)} images\")\n",
        "print(f\"Test dataset size: {len(test_dataset)} images\")\n",
        "print(f\"Number of training batches (batch_size={batch_size}): {len(train_loader)}\")\n",
        "print(f\"Number of test batches (batch_size={batch_size}): {len(test_loader)}\")"
      ]
    },
    {
      "cell_type": "code",
      "execution_count": 2,
      "metadata": {
        "colab": {
          "base_uri": "https://localhost:8080/"
        },
        "id": "7d210a24",
        "outputId": "5c1bb0a6-909f-4afd-c569-fad425e8b9e1"
      },
      "outputs": [
        {
          "output_type": "stream",
          "name": "stdout",
          "text": [
            "Downloading CIFAR-10 training data with augmentation...\n",
            "CIFAR-10 training data downloaded/loaded with augmentation\n",
            "\n",
            "Training dataset size (augmented): 50000 images\n",
            "Test dataset size: 10000 images\n",
            "Number of training batches (batch_size=64): 782\n",
            "Number of test batches (batch_size=64): 157\n"
          ]
        }
      ],
      "source": [
        "# Define transformations for training data including augmentations\n",
        "# train_transform_augmented = transforms.Compose([\n",
        "#     transforms.RandomHorizontalFlip(p=0.2), # Randomly flip the image horizontally with 50% probability\n",
        "#     transforms.ColorJitter(brightness=0.1, contrast=0.1, saturation=0.1, hue=0.1), # Randomly change brightness, contrast, saturation, and hue\n",
        "#     transforms.RandomRotation(degrees=5), # Randomly rotate the image by up to 15 degrees\n",
        "#     transforms.ToTensor(), # Converts PIL Image or NumPy array to PyTorch Tensor\n",
        "#     transforms.Normalize(\n",
        "#         (0.5, 0.5, 0.5),  # Mean for R, G, B channels\n",
        "#         (0.5, 0.5, 0.5)   # std dev for R, G, B channels\n",
        "#     )\n",
        "# ])\n",
        "\n",
        "# New transoform using `transforms.TrivialAugmentWide`\n",
        "train_transform_augmented = transforms.Compose([\n",
        "    transforms.TrivialAugmentWide(num_magnitude_bins=10),\n",
        "    transforms.ToTensor(),\n",
        "    transforms.Normalize(\n",
        "        (0.5, 0.5, 0.5),  # Mean for R, G, B channels\n",
        "        (0.5, 0.5, 0.5)   # std dev for R, G, B channels\n",
        "    )\n",
        "])\n",
        "\n",
        "\n",
        "# Load the CIFAR-10 Datasets with the new transforms\n",
        "print(\"Downloading CIFAR-10 training data with augmentation...\")\n",
        "train_dataset_augmented = torchvision.datasets.CIFAR10(\n",
        "    root='./data',\n",
        "    train=True,\n",
        "    download=True,\n",
        "    transform=train_transform_augmented  # Use augmented transform for training\n",
        ")\n",
        "print(\"CIFAR-10 training data downloaded/loaded with augmentation\")\n",
        "\n",
        "# Create DataLoaders with the new datasets\n",
        "batch_size = 64\n",
        "num_workers = os.cpu_count()\n",
        "\n",
        "train_loader_augmented = torch.utils.data.DataLoader(\n",
        "    train_dataset_augmented,\n",
        "    batch_size,\n",
        "    shuffle=True,\n",
        "    num_workers=num_workers\n",
        ")\n",
        "\n",
        "print(f\"\\nTraining dataset size (augmented): {len(train_dataset_augmented)} images\")\n",
        "print(f\"Test dataset size: {len(test_dataset)} images\")\n",
        "print(f\"Number of training batches (batch_size={batch_size}): {len(train_loader_augmented)}\")\n",
        "print(f\"Number of test batches (batch_size={batch_size}): {len(test_loader)}\")"
      ]
    },
    {
      "cell_type": "markdown",
      "metadata": {
        "id": "5c7EsANQ3EwC"
      },
      "source": [
        "### Verify data loading and visualize a batch"
      ]
    },
    {
      "cell_type": "code",
      "execution_count": 3,
      "metadata": {
        "colab": {
          "base_uri": "https://localhost:8080/"
        },
        "id": "u2aLqG2M5XNu",
        "outputId": "c729457e-ec4c-40e4-b89a-f5b776606a5c"
      },
      "outputs": [
        {
          "output_type": "stream",
          "name": "stdout",
          "text": [
            "\n",
            "Shape of one batch of images: torch.Size([64, 3, 32, 32])\n",
            "Shape of one batch of labels: torch.Size([64])\n"
          ]
        }
      ],
      "source": [
        "# Get one batch of training images and labels\n",
        "dataiter = iter(train_loader)\n",
        "images, labels = next(dataiter)\n",
        "\n",
        "# Print shapes\n",
        "print(f\"\\nShape of one batch of images: {images.shape}\") # Should be [batch_size, 3, 32, 32]\n",
        "print(f\"Shape of one batch of labels: {labels.shape}\") # Should be [batch_size]"
      ]
    },
    {
      "cell_type": "code",
      "execution_count": 4,
      "metadata": {
        "id": "IuRhTiqE5waB"
      },
      "outputs": [],
      "source": [
        "# Function to denormalize and show an image\n",
        "def imshow(img):\n",
        "  img = img / 2 + 0.5\n",
        "  npimg = img.numpy()\n",
        "  plt.imshow(np.transpose(npimg, (1, 2, 0))) # Transpose from (C, H, W) to (H, W, C) for matplotlib\n",
        "  plt.axis(False)\n",
        "  plt.show()"
      ]
    },
    {
      "cell_type": "code",
      "execution_count": 5,
      "metadata": {
        "colab": {
          "base_uri": "https://localhost:8080/",
          "height": 156
        },
        "id": "5BH3hRZp6F78",
        "outputId": "3e06eee6-ebbe-40c6-d71b-b27d0848963d"
      },
      "outputs": [
        {
          "output_type": "display_data",
          "data": {
            "text/plain": [
              "<Figure size 1000x200 with 1 Axes>"
            ],
            "image/png": "[encoded data removed]"
          },
          "metadata": {}
        },
        {
          "output_type": "stream",
          "name": "stdout",
          "text": [
            "plane ship  cat   frog  truck horse cat   ship \n"
          ]
        }
      ],
      "source": [
        "# Get random training images\n",
        "classes = ('plane', 'car', 'bird', 'cat', 'deer', 'dog', 'frog', 'horse', 'ship', 'truck')\n",
        "\n",
        "# Show images\n",
        "plt.figure(figsize=(10,2))\n",
        "imshow(torchvision.utils.make_grid(images[:8])) # show first 8 images\n",
        "print(' '.join(f'{classes[labels[j]]:5s}' for j in range(8)))\n",
        "plt.show()\n"
      ]
    },
    {
      "cell_type": "code",
      "execution_count": 6,
      "metadata": {
        "colab": {
          "base_uri": "https://localhost:8080/"
        },
        "id": "SauwefyB6heA",
        "outputId": "51092c90-be55-45c4-eb38-d015b6e148b5"
      },
      "outputs": [
        {
          "output_type": "execute_result",
          "data": {
            "text/plain": [
              "['airplane',\n",
              " 'automobile',\n",
              " 'bird',\n",
              " 'cat',\n",
              " 'deer',\n",
              " 'dog',\n",
              " 'frog',\n",
              " 'horse',\n",
              " 'ship',\n",
              " 'truck']"
            ]
          },
          "metadata": {},
          "execution_count": 6
        }
      ],
      "source": [
        "class_names = train_dataset.classes\n",
        "class_names"
      ]
    },
    {
      "cell_type": "code",
      "execution_count": 7,
      "metadata": {
        "colab": {
          "base_uri": "https://localhost:8080/"
        },
        "id": "sZSav6KU6-Ck",
        "outputId": "58c11976-39dc-4d4e-f31a-15f9f4ceeda7"
      },
      "outputs": [
        {
          "output_type": "execute_result",
          "data": {
            "text/plain": [
              "{'airplane': 0,\n",
              " 'automobile': 1,\n",
              " 'bird': 2,\n",
              " 'cat': 3,\n",
              " 'deer': 4,\n",
              " 'dog': 5,\n",
              " 'frog': 6,\n",
              " 'horse': 7,\n",
              " 'ship': 8,\n",
              " 'truck': 9}"
            ]
          },
          "metadata": {},
          "execution_count": 7
        }
      ],
      "source": [
        "class_to_idx = train_dataset.class_to_idx\n",
        "class_to_idx"
      ]
    },
    {
      "cell_type": "markdown",
      "metadata": {
        "id": "aUvv1AYF7hDi"
      },
      "source": [
        "## 1. Build baseline model\n",
        "\n",
        "**Architecture**\n",
        "* 2 Conv Blocks (Conv->ReLU->Conv->ReLU->MaxPool)\n",
        "* Flatten\n",
        "* 2 Dense Blocks (Linear->ReLU)"
      ]
    },
    {
      "cell_type": "markdown",
      "metadata": {
        "id": "eihrnBveCdx5"
      },
      "source": [
        "### 1.1 Create Model architecture"
      ]
    },
    {
      "cell_type": "code",
      "execution_count": 8,
      "metadata": {
        "id": "zJq_DE-o7RHA"
      },
      "outputs": [],
      "source": [
        "# Create ConvNet\n",
        "class CIFAR10ConvNet1(nn.Module):\n",
        "  def __init__(self, input_shape: int, hidden_units: int, num_classes: int, dropout_rate=0.3):\n",
        "    super(CIFAR10ConvNet1, self).__init__()\n",
        "    self.conv_block1 = nn.Sequential(\n",
        "        nn.Conv2d(in_channels=input_shape,\n",
        "                  out_channels=hidden_units,\n",
        "                  kernel_size=3,\n",
        "                  stride=1,\n",
        "                  padding=1),\n",
        "        nn.ReLU(),\n",
        "        nn.Conv2d(in_channels=hidden_units,\n",
        "                  out_channels=hidden_units,\n",
        "                  kernel_size=3,\n",
        "                  stride=1,\n",
        "                  padding=1),\n",
        "        nn.ReLU(),\n",
        "        nn.MaxPool2d(kernel_size=2)\n",
        "    )\n",
        "    self.conv_block2 = nn.Sequential(\n",
        "        nn.Conv2d(in_channels=hidden_units,\n",
        "                  out_channels=hidden_units,\n",
        "                  kernel_size=3,\n",
        "                  stride=1,\n",
        "                  padding=1),\n",
        "        nn.ReLU(),\n",
        "        nn.Conv2d(in_channels=hidden_units,\n",
        "                  out_channels=hidden_units,\n",
        "                  kernel_size=3,\n",
        "                  stride=1,\n",
        "                  padding=1),\n",
        "        nn.ReLU(),\n",
        "        nn.MaxPool2d(kernel_size=2)\n",
        "    )\n",
        "\n",
        "    # Dummy forward pass to get size for Linear layer\n",
        "    dummy_input_shape = (1, input_shape, 32, 32)\n",
        "    dummy_input = torch.zeros(dummy_input_shape)\n",
        "\n",
        "    with torch.inference_mode():\n",
        "      dummy_ouput = self.conv_block2(self.conv_block1(dummy_input))\n",
        "\n",
        "      # Flatten ouput to get shape\n",
        "      flattened_output = dummy_ouput.view(dummy_ouput.size(0), -1)\n",
        "\n",
        "      self.flattened_size = flattened_output.size(1)\n",
        "\n",
        "    print(f\"Calculated flattened size: {self.flattened_size}\")\n",
        "\n",
        "    self.classifier = nn.Sequential(\n",
        "        nn.Flatten(),\n",
        "        nn.Linear(in_features=self.flattened_size, out_features=512),\n",
        "        nn.ReLU(),\n",
        "        nn.Dropout(p=dropout_rate),\n",
        "        nn.Linear(in_features=512, out_features=128),\n",
        "        nn.ReLU(),\n",
        "        nn.Dropout(p=dropout_rate),\n",
        "        nn.Linear(in_features=128, out_features=num_classes)\n",
        "    )\n",
        "\n",
        "  def forward(self, x):\n",
        "    x = self.conv_block1(x)\n",
        "    x = self.conv_block2(x)\n",
        "    x = self.classifier(x)\n",
        "    return x\n"
      ]
    },
    {
      "cell_type": "code",
      "execution_count": 9,
      "metadata": {
        "colab": {
          "base_uri": "https://localhost:8080/"
        },
        "id": "lAkoRvxi_e8w",
        "outputId": "ca725c28-3ca3-4bab-d218-dd496d9c07d7"
      },
      "outputs": [
        {
          "output_type": "stream",
          "name": "stdout",
          "text": [
            "Calculated flattened size: 640\n"
          ]
        }
      ],
      "source": [
        "device = \"cuda\" if torch.cuda.is_available() else \"cpu\"\n",
        "\n",
        "model_1 = CIFAR10ConvNet1(input_shape=3, hidden_units=10, num_classes=10).to(device)"
      ]
    },
    {
      "cell_type": "code",
      "execution_count": 10,
      "metadata": {
        "colab": {
          "base_uri": "https://localhost:8080/"
        },
        "id": "hXpJQJYg_5DW",
        "outputId": "a4120a25-b4d6-4834-cc2f-32e6ac00bc24"
      },
      "outputs": [
        {
          "output_type": "execute_result",
          "data": {
            "text/plain": [
              "1"
            ]
          },
          "metadata": {},
          "execution_count": 10
        }
      ],
      "source": [
        "1"
      ]
    },
    {
      "cell_type": "markdown",
      "metadata": {
        "id": "PXJpADP6__wC"
      },
      "source": [
        "### 1.2 Set Loss Function / Optimizer / Evaluation Metrics"
      ]
    },
    {
      "cell_type": "code",
      "execution_count": 11,
      "metadata": {
        "id": "3-O1VrUrCj0A"
      },
      "outputs": [],
      "source": [
        "!pip install torchmetrics --quiet"
      ]
    },
    {
      "cell_type": "code",
      "execution_count": 12,
      "metadata": {
        "id": "Ec7kpMyoDlz2"
      },
      "outputs": [],
      "source": [
        "import torchmetrics\n",
        "\n",
        "accuracy_fn = torchmetrics.Accuracy(task=\"multiclass\", num_classes=10).to(device)\n",
        "criterion = nn.CrossEntropyLoss()\n"
      ]
    },
    {
      "cell_type": "markdown",
      "metadata": {
        "id": "b680Yv1UD3__"
      },
      "source": [
        "### 1.3 Create Training and Testing Loops"
      ]
    },
    {
      "cell_type": "code",
      "execution_count": 13,
      "metadata": {
        "id": "mx_7gPhDD27y"
      },
      "outputs": [],
      "source": [
        "def train_loop(model, dataloader, criterion, optimizer, accuracy_fn, device):\n",
        "  \"\"\"\n",
        "  Complete training loop for one epoch.\n",
        "\n",
        "  Inputs:\n",
        "    model: PyTorch model to be trained\n",
        "    dataloader: PyTorch DataLoader to loop through\n",
        "    criterion: Loss function\n",
        "    optimizer: PyTorch optimizer\n",
        "    accuracy_fn: Accuracy metric\n",
        "    device: PyTorch device\n",
        "  \"\"\"\n",
        "  model.train()\n",
        "  train_loss, train_acc = 0, 0\n",
        "\n",
        "  for batch, (X, y) in enumerate(dataloader):\n",
        "    X, y = X.to(device), y.to(device)\n",
        "\n",
        "    # 1. Forward pass\n",
        "    y_pred = model(X) # raw logits\n",
        "\n",
        "    # 2. Calculate the loss/accuracy\n",
        "    loss = criterion(y_pred, y)\n",
        "    train_loss += loss.item()\n",
        "    train_acc += accuracy_fn(y_pred.argmax(dim=1), y)\n",
        "\n",
        "    # 3. Optimizer zero grad\n",
        "    optimizer.zero_grad()\n",
        "\n",
        "    # 4. Loss Backprop\n",
        "    loss.backward()\n",
        "\n",
        "    # 5. Optimizer step\n",
        "    optimizer.step()\n",
        "\n",
        "  # Print training loss and accuracy for each epoch\n",
        "  train_loss /= len(dataloader)\n",
        "  train_acc /= len(dataloader)\n",
        "  # print(f\"Train Loss: {train_loss:.5f} | Train Acc: {train_acc:.5f}\")\n",
        "  return train_loss, train_acc"
      ]
    },
    {
      "cell_type": "code",
      "execution_count": 14,
      "metadata": {
        "id": "KRemHZYMFav3"
      },
      "outputs": [],
      "source": [
        "def test_loop(model, dataloader, criterion, accuracy_fn, device):\n",
        "  \"\"\"\n",
        "  Complete testing loop for one epoch.\n",
        "\n",
        "  Inputs:\n",
        "    model: PyTorch model to be trained\n",
        "    dataloader: PyTorch DataLoader to loop through\n",
        "    criterion: Loss function\n",
        "    accuracy_fn: Accuracy metric\n",
        "    device: PyTorch device\n",
        "  \"\"\"\n",
        "\n",
        "  model.eval()\n",
        "  test_loss, test_acc = 0, 0\n",
        "\n",
        "  with torch.inference_mode():\n",
        "    for X, y in dataloader:\n",
        "      X, y = X.to(device), y.to(device)\n",
        "\n",
        "      y_pred = model(X)\n",
        "\n",
        "      test_loss += criterion(y_pred, y).item()\n",
        "      test_acc += accuracy_fn(y_pred.argmax(dim=1), y)\n",
        "\n",
        "    test_loss /= len(dataloader)\n",
        "    test_acc /= len(dataloader)\n",
        "    # print(f\"Test Loss: {test_loss:.5f} | Test Acc: {test_acc:.5f}\")\n",
        "    return test_loss, test_acc"
      ]
    },
    {
      "cell_type": "code",
      "execution_count": 15,
      "metadata": {
        "id": "GhX1VSUyGrcd"
      },
      "outputs": [],
      "source": [
        "from timeit import default_timer as timer\n",
        "def print_train_time(start: float,\n",
        "                     end: float,\n",
        "                     device: torch.device = None):\n",
        "  \"\"\"Prints difference between start and end time.\"\"\"\n",
        "  total_time = end - start\n",
        "  print(f\"Train time on {device}: {total_time:.3f} seconds\")\n",
        "  return total_time"
      ]
    },
    {
      "cell_type": "code",
      "source": [
        "def print_loss_accuracy(train_loss, train_accuracy, test_loss, test_accuracy, num_epochs):\n",
        "  \"\"\"Prints loss and accuracy curves\"\"\"\n",
        "  epochs = range(1, num_epochs+1)\n",
        "\n",
        "  # Move tensors to CPU before converting to NumPy for plotting\n",
        "  train_loss_cpu = [loss.cpu() if isinstance(loss, torch.Tensor) else loss for loss in train_loss]\n",
        "  train_accuracy_cpu = [acc.cpu() if isinstance(acc, torch.Tensor) else acc for acc in train_accuracy]\n",
        "  test_loss_cpu = [loss.cpu() if isinstance(loss, torch.Tensor) else loss for loss in test_loss]\n",
        "  test_accuracy_cpu = [acc.cpu() if isinstance(acc, torch.Tensor) else acc for acc in test_accuracy]\n",
        "\n",
        "  plt.plot(epochs, train_loss_cpu, label=\"Train Loss\")\n",
        "  plt.plot(epochs, test_loss_cpu, label=\"Test Loss\")\n",
        "  plt.title(\"Loss vs. Epochs\")\n",
        "  plt.xlabel(\"Epochs\")\n",
        "  plt.ylabel(\"Loss\")\n",
        "  plt.legend()\n",
        "  plt.show()\n",
        "\n",
        "  plt.plot(epochs, train_accuracy_cpu, label=\"Train Accuracy\")\n",
        "  plt.plot(epochs, test_accuracy_cpu, label=\"Test Accuracy\")\n",
        "  plt.title(\"Accuracy vs. Epochs\")\n",
        "  plt.xlabel(\"Epochs\")\n",
        "  plt.ylabel(\"Accuracy\")\n",
        "  plt.legend()\n",
        "  plt.show()"
      ],
      "metadata": {
        "id": "rmJyTmr-U6uJ"
      },
      "execution_count": 16,
      "outputs": []
    },
    {
      "cell_type": "code",
      "execution_count": 17,
      "metadata": {
        "colab": {
          "base_uri": "https://localhost:8080/",
          "height": 1000,
          "referenced_widgets": [
            "dcaf9520cdd446c68029a9eaf5e92f9d",
            "8ef2a9cf1bf04de9ad0667cb9ed59249",
            "2614ada471ce46d6abdc346fe81e1bd0",
            "265b21651e664342856414b8376d772e",
            "1ee4d146234b406ca79159b1fa4145fd",
            "dd31b06c598e47569af3fae2667a484a",
            "969a98ddb6f04eeeb1bcc8c9ab6d1efc",
            "37dfdb94970f4480bc9f95f215810ae8",
            "f507af3dab6f4d27a650512a14779c80",
            "963091693aa94e61a6bedb4fc5f2a718",
            "f587f411433745dc95e47263a9c22496"
          ]
        },
        "id": "rfFcHCUXF-qa",
        "outputId": "c5914a88-cb01-476f-d7fa-7ee06fa4ea1c"
      },
      "outputs": [
        {
          "output_type": "stream",
          "name": "stdout",
          "text": [
            "Calculated flattened size: 640\n"
          ]
        },
        {
          "output_type": "display_data",
          "data": {
            "text/plain": [
              "  0%|          | 0/10 [00:00<?, ?it/s]"
            ],
            "application/vnd.jupyter.widget-view+json": {
              "version_major": 2,
              "version_minor": 0,
              "model_id": "dcaf9520cdd446c68029a9eaf5e92f9d"
            }
          },
          "metadata": {}
        },
        {
          "output_type": "stream",
          "name": "stdout",
          "text": [
            "Epoch: 1\n",
            "-------\n",
            "Epoch: 2\n",
            "-------\n",
            "Epoch: 3\n",
            "-------\n",
            "Epoch: 4\n",
            "-------\n",
            "Epoch: 5\n",
            "-------\n",
            "Epoch: 6\n",
            "-------\n",
            "Epoch: 7\n",
            "-------\n",
            "Epoch: 8\n",
            "-------\n",
            "Epoch: 9\n",
            "-------\n",
            "Epoch: 10\n",
            "-------\n",
            "Train time on cuda: 180.462 seconds\n"
          ]
        },
        {
          "output_type": "display_data",
          "data": {
            "text/plain": [
              "<Figure size 640x480 with 1 Axes>"
            ],
            "image/png": "[encoded data removed]"
          },
          "metadata": {}
        },
        {
          "output_type": "display_data",
          "data": {
            "text/plain": [
              "<Figure size 640x480 with 1 Axes>"
            ],
            "image/png": "[encoded data removed]"
          },
          "metadata": {}
        }
      ],
      "source": [
        "from tqdm.auto import tqdm\n",
        "torch.manual_seed(42)\n",
        "\n",
        "model_1 = CIFAR10ConvNet1(input_shape=3, hidden_units=10, num_classes=10, dropout_rate=0.1).to(device)\n",
        "optimizer = torch.optim.Adam(params=model_1.parameters(), lr=0.001)\n",
        "\n",
        "epochs = 10\n",
        "\n",
        "TRAIN_LOSS = []\n",
        "TRAIN_ACCURACY = []\n",
        "TEST_LOSS = []\n",
        "TEST_ACCURACY = []\n",
        "\n",
        "\n",
        "# Measure time\n",
        "train_time_start_on_cpu = timer()\n",
        "\n",
        "for epoch in tqdm(range(epochs)):\n",
        "  print(f\"Epoch: {epoch+1}\\n-------\")\n",
        "  train_loss, train_acc = train_loop(model_1, train_loader, criterion, optimizer, accuracy_fn, device)\n",
        "  test_loss, test_acc = test_loop(model_1, test_loader, criterion, accuracy_fn, device)\n",
        "  TRAIN_LOSS.append(train_loss)\n",
        "  TRAIN_ACCURACY.append(train_acc)\n",
        "  TEST_LOSS.append(test_loss)\n",
        "  TEST_ACCURACY.append(test_acc)\n",
        "\n",
        "\n",
        "train_time_end_on_cpu = timer()\n",
        "total_train_time_model_1 = print_train_time(train_time_start_on_cpu,\n",
        "                                           train_time_end_on_cpu,\n",
        "                                           device=device)\n",
        "\n",
        "print_loss_accuracy(TRAIN_LOSS, TRAIN_ACCURACY, TEST_LOSS, TEST_ACCURACY, epochs)"
      ]
    },
    {
      "cell_type": "code",
      "execution_count": 18,
      "metadata": {
        "colab": {
          "base_uri": "https://localhost:8080/",
          "height": 1000,
          "referenced_widgets": [
            "393aa08602354706b989ca9efe9e8b23",
            "b2efe3a1f46b46d88ab7c992141f0282",
            "b08e32bc48fd4e4292609ddb291ede1f",
            "94866df9e43d4f53b4d163cbed621ebc",
            "8f9cc643be9b48f0af558a20ab4e1466",
            "4a316652634a43a78df6a321c8f7bcf7",
            "5d18a2d26e0944fb84fa099025e345f0",
            "09b46075e01543cc97424540a7e3599a",
            "db9db31189304e6482bd53538ece9e47",
            "e3f1319a0faf4038a5d17e8a6eb5df67",
            "38de86fc61ab487a8befdcdbe411ddb2"
          ]
        },
        "id": "k29s6U_0G1kB",
        "outputId": "59ef33f4-ae00-4434-8a8c-be5b1e9baa82",
        "collapsed": true
      },
      "outputs": [
        {
          "output_type": "stream",
          "name": "stdout",
          "text": [
            "Calculated flattened size: 640\n"
          ]
        },
        {
          "output_type": "display_data",
          "data": {
            "text/plain": [
              "  0%|          | 0/10 [00:00<?, ?it/s]"
            ],
            "application/vnd.jupyter.widget-view+json": {
              "version_major": 2,
              "version_minor": 0,
              "model_id": "393aa08602354706b989ca9efe9e8b23"
            }
          },
          "metadata": {}
        },
        {
          "output_type": "stream",
          "name": "stdout",
          "text": [
            "Epoch: 1\n",
            "-------\n",
            "Epoch: 2\n",
            "-------\n",
            "Epoch: 3\n",
            "-------\n",
            "Epoch: 4\n",
            "-------\n",
            "Epoch: 5\n",
            "-------\n",
            "Epoch: 6\n",
            "-------\n",
            "Epoch: 7\n",
            "-------\n",
            "Epoch: 8\n",
            "-------\n",
            "Epoch: 9\n",
            "-------\n",
            "Epoch: 10\n",
            "-------\n",
            "Train time on cuda: 301.518 seconds\n"
          ]
        },
        {
          "output_type": "display_data",
          "data": {
            "text/plain": [
              "<Figure size 640x480 with 1 Axes>"
            ],
            "image/png": "[encoded data removed]"
          },
          "metadata": {}
        },
        {
          "output_type": "display_data",
          "data": {
            "text/plain": [
              "<Figure size 640x480 with 1 Axes>"
            ],
            "image/png": "[encoded data removed]"
          },
          "metadata": {}
        }
      ],
      "source": [
        "torch.manual_seed(42)\n",
        "\n",
        "model_1_augmented = CIFAR10ConvNet1(input_shape=3, hidden_units=10, num_classes=10, dropout_rate=0.1).to(device)\n",
        "epochs = 10\n",
        "optimizer_augmented = torch.optim.Adam(params=model_1_augmented.parameters(), lr=0.001)\n",
        "TRAIN_LOSS = []\n",
        "TRAIN_ACCURACY = []\n",
        "TEST_LOSS = []\n",
        "TEST_ACCURACY = []\n",
        "\n",
        "# Measure time\n",
        "train_time_start_on_cpu = timer()\n",
        "\n",
        "for epoch in tqdm(range(epochs)):\n",
        "  print(f\"Epoch: {epoch+1}\\n-------\")\n",
        "  train_loss, train_acc = train_loop(model_1_augmented, train_loader_augmented, criterion, optimizer_augmented, accuracy_fn, device)\n",
        "  test_loss, test_acc = test_loop(model_1_augmented, test_loader, criterion, accuracy_fn, device)\n",
        "  TRAIN_LOSS.append(train_loss)\n",
        "  TRAIN_ACCURACY.append(train_acc)\n",
        "  TEST_LOSS.append(test_loss)\n",
        "  TEST_ACCURACY.append(test_acc)\n",
        "\n",
        "\n",
        "train_time_end_on_cpu = timer()\n",
        "total_train_time_model_1 = print_train_time(train_time_start_on_cpu,\n",
        "                                           train_time_end_on_cpu,\n",
        "                                           device=device)\n",
        "\n",
        "print_loss_accuracy(TRAIN_LOSS, TRAIN_ACCURACY, TEST_LOSS, TEST_ACCURACY, epochs)"
      ]
    },
    {
      "cell_type": "markdown",
      "metadata": {
        "id": "s-HZdm3n32S8"
      },
      "source": [
        "## 2. Build More Advanced Model\n",
        "\n",
        "Explore tactics such as:\n",
        "* Learning Rate Scheduling\n",
        "* Different optimizers (SGD w/ Momentum, RMSprop)\n",
        "* Add Batch Norm\n",
        "* Increase model capacity (# filters or size of filters to learn complex features)\n",
        "* Early Stopping"
      ]
    },
    {
      "cell_type": "code",
      "source": [
        "class CIFAR10ConvNet2(nn.Module):\n",
        "  def __init__(self, input_shape: int, num_classes: int, dropout_rate=0.1):\n",
        "    super(CIFAR10ConvNet2, self).__init__()\n",
        "\n",
        "    self.conv_block1 = nn.Sequential(\n",
        "        nn.Conv2d(in_channels=input_shape,\n",
        "                  out_channels=32,\n",
        "                  kernel_size=3,\n",
        "                  padding=1),\n",
        "        nn.BatchNorm2d(32),\n",
        "        nn.ReLU(),\n",
        "        nn.Conv2d(in_channels=32,\n",
        "                  out_channels=64,\n",
        "                  kernel_size=3,\n",
        "                  padding=1),\n",
        "        nn.ReLU(),\n",
        "        nn.MaxPool2d(kernel_size=2)\n",
        "    )\n",
        "\n",
        "    self.conv_block2 = nn.Sequential(\n",
        "      nn.Conv2d(in_channels=64,\n",
        "                out_channels=128,\n",
        "                kernel_size=3,\n",
        "                padding=1),\n",
        "      nn.BatchNorm2d(128),\n",
        "      nn.ReLU(),\n",
        "      nn.Conv2d(in_channels=128,\n",
        "                out_channels=128,\n",
        "                kernel_size=3,\n",
        "                padding=1),\n",
        "      nn.ReLU(),\n",
        "      nn.MaxPool2d(kernel_size=2, stride=2),\n",
        "      nn.Dropout2d(p=0.05)\n",
        "    )\n",
        "\n",
        "    self.conv_block3 = nn.Sequential(\n",
        "        nn.Conv2d(in_channels=128,\n",
        "                out_channels=256,\n",
        "                kernel_size=3,\n",
        "                padding=1),\n",
        "        nn.BatchNorm2d(256),\n",
        "        nn.ReLU(inplace=True),\n",
        "        nn.Conv2d(in_channels=256,\n",
        "                out_channels=256,\n",
        "                kernel_size=3,\n",
        "                padding=1),\n",
        "        nn.ReLU(inplace=True),\n",
        "        nn.MaxPool2d(kernel_size=2, stride=2)\n",
        "    )\n",
        "\n",
        "    # Dummy forward pass to get size for Linear layer\n",
        "    dummy_input_shape = (1, input_shape, 32, 32)\n",
        "    dummy_input = torch.zeros(dummy_input_shape)\n",
        "\n",
        "    with torch.inference_mode():\n",
        "      dummy_ouput = self.conv_block3(self.conv_block2(self.conv_block1(dummy_input)))\n",
        "\n",
        "      # Flatten ouput to get shape\n",
        "      flattened_output = dummy_ouput.view(dummy_ouput.size(0), -1)\n",
        "\n",
        "      self.flattened_size = flattened_output.size(1)\n",
        "\n",
        "    print(f\"Calculated flattened size: {self.flattened_size}\")\n",
        "\n",
        "    self.classifier = nn.Sequential(\n",
        "        nn.Flatten(),\n",
        "        nn.Dropout(p=dropout_rate),\n",
        "        nn.Linear(in_features=self.flattened_size, out_features=1024),\n",
        "        nn.ReLU(inplace=True),\n",
        "        nn.Linear(in_features=1024, out_features=512),\n",
        "        nn.ReLU(inplace=True),\n",
        "        nn.Dropout(p=dropout_rate),\n",
        "        nn.Linear(in_features=512, out_features=num_classes)\n",
        "    )\n",
        "\n",
        "  def forward(self, x):\n",
        "    x = self.conv_block1(x)\n",
        "    x = self.conv_block2(x)\n",
        "    x = self.conv_block3(x)\n",
        "    x = self.classifier(x)\n",
        "    return x\n",
        "\n"
      ],
      "metadata": {
        "id": "9FTzUFpKXMq1"
      },
      "execution_count": 19,
      "outputs": []
    },
    {
      "cell_type": "code",
      "source": [
        "device = \"cuda\" if torch.cuda.is_available() else \"cpu\"\n",
        "\n",
        "model_2 = CIFAR10ConvNet2(input_shape=3, num_classes=10, dropout_rate=0.1).to(device)"
      ],
      "metadata": {
        "id": "ZJGw07pyZrbh",
        "colab": {
          "base_uri": "https://localhost:8080/"
        },
        "outputId": "737d7c25-83a6-4ad5-8725-d8bdb589f3ac"
      },
      "execution_count": 20,
      "outputs": [
        {
          "output_type": "stream",
          "name": "stdout",
          "text": [
            "Calculated flattened size: 4096\n"
          ]
        }
      ]
    },
    {
      "cell_type": "code",
      "source": [
        "# Print the model architecture\n",
        "print(f\"\\n--- Model Architecture ---\")\n",
        "print(model_2)"
      ],
      "metadata": {
        "id": "a_u2tJYAc0Cb",
        "colab": {
          "base_uri": "https://localhost:8080/"
        },
        "outputId": "ceb1a985-735d-4620-c53f-927eb34d713d"
      },
      "execution_count": 21,
      "outputs": [
        {
          "output_type": "stream",
          "name": "stdout",
          "text": [
            "\n",
            "--- Model Architecture ---\n",
            "CIFAR10ConvNet2(\n",
            "  (conv_block1): Sequential(\n",
            "    (0): Conv2d(3, 32, kernel_size=(3, 3), stride=(1, 1), padding=(1, 1))\n",
            "    (1): BatchNorm2d(32, eps=1e-05, momentum=0.1, affine=True, track_running_stats=True)\n",
            "    (2): ReLU()\n",
            "    (3): Conv2d(32, 64, kernel_size=(3, 3), stride=(1, 1), padding=(1, 1))\n",
            "    (4): ReLU()\n",
            "    (5): MaxPool2d(kernel_size=2, stride=2, padding=0, dilation=1, ceil_mode=False)\n",
            "  )\n",
            "  (conv_block2): Sequential(\n",
            "    (0): Conv2d(64, 128, kernel_size=(3, 3), stride=(1, 1), padding=(1, 1))\n",
            "    (1): BatchNorm2d(128, eps=1e-05, momentum=0.1, affine=True, track_running_stats=True)\n",
            "    (2): ReLU()\n",
            "    (3): Conv2d(128, 128, kernel_size=(3, 3), stride=(1, 1), padding=(1, 1))\n",
            "    (4): ReLU()\n",
            "    (5): MaxPool2d(kernel_size=2, stride=2, padding=0, dilation=1, ceil_mode=False)\n",
            "    (6): Dropout2d(p=0.05, inplace=False)\n",
            "  )\n",
            "  (conv_block3): Sequential(\n",
            "    (0): Conv2d(128, 256, kernel_size=(3, 3), stride=(1, 1), padding=(1, 1))\n",
            "    (1): BatchNorm2d(256, eps=1e-05, momentum=0.1, affine=True, track_running_stats=True)\n",
            "    (2): ReLU(inplace=True)\n",
            "    (3): Conv2d(256, 256, kernel_size=(3, 3), stride=(1, 1), padding=(1, 1))\n",
            "    (4): ReLU(inplace=True)\n",
            "    (5): MaxPool2d(kernel_size=2, stride=2, padding=0, dilation=1, ceil_mode=False)\n",
            "  )\n",
            "  (classifier): Sequential(\n",
            "    (0): Flatten(start_dim=1, end_dim=-1)\n",
            "    (1): Dropout(p=0.1, inplace=False)\n",
            "    (2): Linear(in_features=4096, out_features=1024, bias=True)\n",
            "    (3): ReLU(inplace=True)\n",
            "    (4): Linear(in_features=1024, out_features=512, bias=True)\n",
            "    (5): ReLU(inplace=True)\n",
            "    (6): Dropout(p=0.1, inplace=False)\n",
            "    (7): Linear(in_features=512, out_features=10, bias=True)\n",
            "  )\n",
            ")\n"
          ]
        }
      ]
    },
    {
      "cell_type": "markdown",
      "source": [
        "### 2.1 Test on regular data"
      ],
      "metadata": {
        "id": "pbLI9XGidS0U"
      }
    },
    {
      "cell_type": "markdown",
      "source": [
        "**Added Learning Rate scheduler to our training loop**"
      ],
      "metadata": {
        "id": "lGSVZWxXvYna"
      }
    },
    {
      "cell_type": "code",
      "source": [
        "from torch.optim.lr_scheduler import ReduceLROnPlateau\n",
        "\n",
        "def train_test_model(model, train_dataloader, test_dataloader, criterion, optimizer, accuracy_fn, device, epochs):\n",
        "  train_loss = []\n",
        "  train_acc = []\n",
        "  test_loss = []\n",
        "  test_acc = []\n",
        "\n",
        "  # Initialize the learning rate scheduler\n",
        "  scheduler = ReduceLROnPlateau(optimizer, mode='min', factor=0.1, patience=5, verbose=True)\n",
        "\n",
        "  for epoch in tqdm(range(epochs)):\n",
        "    # print(f\"Epoch: {epoch+1}\\n--------\")\n",
        "    train_loss_epoch, train_acc_epoch = train_loop(model, train_dataloader, criterion, optimizer, accuracy_fn, device)\n",
        "    test_loss_epoch, test_acc_epoch = test_loop(model, test_dataloader, criterion, accuracy_fn, device)\n",
        "    train_loss.append(train_loss_epoch)\n",
        "    train_acc.append(train_acc_epoch)\n",
        "    test_loss.append(test_loss_epoch)\n",
        "    test_acc.append(test_acc_epoch)\n",
        "\n",
        "    # Step the scheduler based on the test loss\n",
        "    scheduler.step(test_loss_epoch)\n",
        "\n",
        "\n",
        "  print_loss_accuracy(train_loss, train_acc, test_loss, test_acc, epochs)"
      ],
      "metadata": {
        "id": "AxL2X2nCdpYO"
      },
      "execution_count": 22,
      "outputs": []
    },
    {
      "cell_type": "markdown",
      "source": [],
      "metadata": {
        "id": "LW2WawgnvV9l"
      }
    },
    {
      "cell_type": "markdown",
      "source": [
        "**Model 2 Base**"
      ],
      "metadata": {
        "id": "Tua4fki7vjgf"
      }
    },
    {
      "cell_type": "code",
      "source": [
        "model_2 = CIFAR10ConvNet2(input_shape=3, num_classes=10, dropout_rate=0.1).to(device)\n",
        "optimizer = torch.optim.Adam(params=model_2.parameters(), lr=0.001)\n",
        "accuracy_fn = torchmetrics.Accuracy(task='multiclass', num_classes=10).to(device)\n",
        "criterion = nn.CrossEntropyLoss()\n",
        "\n",
        "train_test_model(model_2, train_loader, test_loader, criterion, optimizer, accuracy_fn, device, 30)"
      ],
      "metadata": {
        "id": "hU3XMxCQetwx",
        "colab": {
          "base_uri": "https://localhost:8080/",
          "height": 977,
          "referenced_widgets": [
            "25d258e6d7c749709da96c583039472f",
            "9270b14a3ee94c738a810c63062974f0",
            "046e9584061f4023ab5ecc6b935bc63a",
            "e0dad4130a264322b57de4ecdd55dd5f",
            "21e941b92b2046c5b1f3cac4eeb99921",
            "c61df9fc0d594066bf26c7ed3690a0bc",
            "f143424b7884427bac27a4aaf3a66680",
            "bf373c338dda40e78e9c14ccd402cb62",
            "db5bf782cf2e4fd4be2792e6301c2ce1",
            "bdf84dd089c44cbeadfa10bb4cad01ef",
            "2bd16e95b3364ce88050022921ee8d7a"
          ]
        },
        "outputId": "ea427877-4e27-43e5-8006-caaad0a3cc9d"
      },
      "execution_count": 23,
      "outputs": [
        {
          "output_type": "stream",
          "name": "stdout",
          "text": [
            "Calculated flattened size: 4096\n"
          ]
        },
        {
          "output_type": "display_data",
          "data": {
            "text/plain": [
              "  0%|          | 0/30 [00:00<?, ?it/s]"
            ],
            "application/vnd.jupyter.widget-view+json": {
              "version_major": 2,
              "version_minor": 0,
              "model_id": "25d258e6d7c749709da96c583039472f"
            }
          },
          "metadata": {}
        },
        {
          "output_type": "display_data",
          "data": {
            "text/plain": [
              "<Figure size 640x480 with 1 Axes>"
            ],
            "image/png": "[encoded data removed]"
          },
          "metadata": {}
        },
        {
          "output_type": "display_data",
          "data": {
            "text/plain": [
              "<Figure size 640x480 with 1 Axes>"
            ],
            "image/png": "[encoded data removed]"
          },
          "metadata": {}
        }
      ]
    },
    {
      "cell_type": "markdown",
      "source": [
        "**Model 2 with SGD optimizer and momentum**"
      ],
      "metadata": {
        "id": "CrgKQqNIwu6x"
      }
    },
    {
      "cell_type": "code",
      "source": [
        "model_2 = CIFAR10ConvNet2(input_shape=3, num_classes=10, dropout_rate=0.1).to(device)\n",
        "optimizer = torch.optim.SGD(params=model_2.parameters(), lr=0.001, momentum=0.9)\n",
        "accuracy_fn = torchmetrics.Accuracy(task='multiclass', num_classes=10).to(device)\n",
        "criterion = nn.CrossEntropyLoss()\n",
        "\n",
        "train_test_model(model_2, train_loader, test_loader, criterion, optimizer, accuracy_fn, device, 30)"
      ],
      "metadata": {
        "id": "EiI1KdERwlxt",
        "colab": {
          "base_uri": "https://localhost:8080/",
          "height": 977,
          "referenced_widgets": [
            "dadb7e47e7d74f439823ff6107db2833",
            "166ac51e63de4358a4b92f44738345bd",
            "346de03cc2934a6fbdaa5f7c4b8d3ce6",
            "a610885486f94d1c89c91c14d92b20bf",
            "9fc8749f9e754421ba7b88a3f3046248",
            "03c864c134d848a8859dbafc98e46c33",
            "6ebc9f73a1894136b5c859a32109c0d9",
            "0d84b27c4de047fd9863c45b7cefce7e",
            "daa08dd87ed64c4b90de72e523f5e752",
            "ad71b8dac92d47f58ae3febade12e890",
            "f762e7fc7e6c48a28b58bf5ea848d0d9"
          ]
        },
        "outputId": "284eba15-0beb-41c8-dc29-8cf9988cc757"
      },
      "execution_count": 24,
      "outputs": [
        {
          "output_type": "stream",
          "name": "stdout",
          "text": [
            "Calculated flattened size: 4096\n"
          ]
        },
        {
          "output_type": "display_data",
          "data": {
            "text/plain": [
              "  0%|          | 0/30 [00:00<?, ?it/s]"
            ],
            "application/vnd.jupyter.widget-view+json": {
              "version_major": 2,
              "version_minor": 0,
              "model_id": "dadb7e47e7d74f439823ff6107db2833"
            }
          },
          "metadata": {}
        },
        {
          "output_type": "display_data",
          "data": {
            "text/plain": [
              "<Figure size 640x480 with 1 Axes>"
            ],
            "image/png": "[encoded data removed]"
          },
          "metadata": {}
        },
        {
          "output_type": "display_data",
          "data": {
            "text/plain": [
              "<Figure size 640x480 with 1 Axes>"
            ],
            "image/png": "[encoded data removed]"
          },
          "metadata": {}
        }
      ]
    },
    {
      "cell_type": "markdown",
      "source": [
        "**Model 2 using augmented training data**"
      ],
      "metadata": {
        "id": "02FvfiPWwTnJ"
      }
    },
    {
      "cell_type": "code",
      "source": [
        "model_2_augmented = CIFAR10ConvNet2(input_shape=3, num_classes=10, dropout_rate=0.1).to(device)\n",
        "optimizer = torch.optim.Adam(params=model_2_augmented.parameters(), lr=0.001)\n",
        "accuracy_fn = torchmetrics.Accuracy(task='multiclass', num_classes=10).to(device)\n",
        "criterion = nn.CrossEntropyLoss()\n",
        "\n",
        "train_test_model(model_2_augmented, train_loader_augmented, test_loader, criterion, optimizer, accuracy_fn, device, 30)"
      ],
      "metadata": {
        "id": "JPUQbc3LgNmA",
        "colab": {
          "base_uri": "https://localhost:8080/",
          "height": 977,
          "referenced_widgets": [
            "aaf50694e5e14d3ba78155b337098a17",
            "fcd97a7af6b1461fbbfb5160b8736de9",
            "342beff0804e45608f3cfb4577bddcaf",
            "a50005fe8d6f48b8914058d2b22dba56",
            "cbbc5063887e40b1b4781bbe79a3c9a1",
            "bdf165f4d0d4447892b1d92e07b15741",
            "b66d797d5a4c4334b19b0c48b11f7d1f",
            "1fa94f030eef47b2a02381fd7b341b8f",
            "e944e552664f45be85a905bc0acd5a7f",
            "01c399eaaff9406a9c67fb4c05e32333",
            "fddc42be9dd14e59922579ace00faecc"
          ]
        },
        "outputId": "8c40edec-12a1-4847-bb6f-ecd6be26b1af"
      },
      "execution_count": 25,
      "outputs": [
        {
          "output_type": "stream",
          "name": "stdout",
          "text": [
            "Calculated flattened size: 4096\n"
          ]
        },
        {
          "output_type": "display_data",
          "data": {
            "text/plain": [
              "  0%|          | 0/30 [00:00<?, ?it/s]"
            ],
            "application/vnd.jupyter.widget-view+json": {
              "version_major": 2,
              "version_minor": 0,
              "model_id": "aaf50694e5e14d3ba78155b337098a17"
            }
          },
          "metadata": {}
        },
        {
          "output_type": "display_data",
          "data": {
            "text/plain": [
              "<Figure size 640x480 with 1 Axes>"
            ],
            "image/png": "[encoded data removed]"
          },
          "metadata": {}
        },
        {
          "output_type": "display_data",
          "data": {
            "text/plain": [
              "<Figure size 640x480 with 1 Axes>"
            ],
            "image/png": "[encoded data removed]"
          },
          "metadata": {}
        }
      ]
    },
    {
      "cell_type": "code",
      "metadata": {
        "colab": {
          "base_uri": "https://localhost:8080/"
        },
        "id": "5a02b27d",
        "outputId": "986c564b-50a9-45f3-f307-71a06d9a0334"
      },
      "source": [
        "# Save the state_dict of model_2\n",
        "torch.save(model_2_augmented.state_dict(), 'cifar10_model_weights.pth')\n",
        "print(\"cifar10_model_weights.pth saved successfully.\")"
      ],
      "execution_count": 26,
      "outputs": [
        {
          "output_type": "stream",
          "name": "stdout",
          "text": [
            "cifar10_model_weights.pth saved successfully.\n"
          ]
        }
      ]
    },
    {
      "cell_type": "code",
      "metadata": {
        "colab": {
          "base_uri": "https://localhost:8080/",
          "height": 17
        },
        "id": "cafec5bb",
        "outputId": "b1644948-7b7e-41af-fdd4-6808553f9b2e"
      },
      "source": [
        "from google.colab import files\n",
        "\n",
        "files.download('cifar10_model_weights.pth')"
      ],
      "execution_count": 27,
      "outputs": [
        {
          "output_type": "display_data",
          "data": {
            "text/plain": [
              "<IPython.core.display.Javascript object>"
            ],
            "application/javascript": [
              "\n",
              "    async function download(id, filename, size) {\n",
              "      if (!google.colab.kernel.accessAllowed) {\n",
              "        return;\n",
              "      }\n",
              "      const div = document.createElement('div');\n",
              "      const label = document.createElement('label');\n",
              "      label.textContent = `Downloading \"${filename}\": `;\n",
              "      div.appendChild(label);\n",
              "      const progress = document.createElement('progress');\n",
              "      progress.max = size;\n",
              "      div.appendChild(progress);\n",
              "      document.body.appendChild(div);\n",
              "\n",
              "      const buffers = [];\n",
              "      let downloaded = 0;\n",
              "\n",
              "      const channel = await google.colab.kernel.comms.open(id);\n",
              "      // Send a message to notify the kernel that we're ready.\n",
              "      channel.send({})\n",
              "\n",
              "      for await (const message of channel.messages) {\n",
              "        // Send a message to notify the kernel that we're ready.\n",
              "        channel.send({})\n",
              "        if (message.buffers) {\n",
              "          for (const buffer of message.buffers) {\n",
              "            buffers.push(buffer);\n",
              "            downloaded += buffer.byteLength;\n",
              "            progress.value = downloaded;\n",
              "          }\n",
              "        }\n",
              "      }\n",
              "      const blob = new Blob(buffers, {type: 'application/binary'});\n",
              "      const a = document.createElement('a');\n",
              "      a.href = window.URL.createObjectURL(blob);\n",
              "      a.download = filename;\n",
              "      div.appendChild(a);\n",
              "      a.click();\n",
              "      div.remove();\n",
              "    }\n",
              "  "
            ]
          },
          "metadata": {}
        },
        {
          "output_type": "display_data",
          "data": {
            "text/plain": [
              "<IPython.core.display.Javascript object>"
            ],
            "application/javascript": [
              "download(\"download_c9a60320-1f19-4608-b3ff-56f703900a0d\", \"cifar10_model_weights.pth\", 23424057)"
            ]
          },
          "metadata": {}
        }
      ]
    }
  ],
  "metadata": {
    "colab": {
      "provenance": [],
      "gpuType": "T4"
    },
    "kernelspec": {
      "display_name": "Python 3",
      "name": "python3"
    },
    "language_info": {
      "name": "python"
    },
    "widgets": {
      "application/vnd.jupyter.widget-state+json": {
        "dcaf9520cdd446c68029a9eaf5e92f9d": {
          "model_module": "@jupyter-widgets/controls",
          "model_name": "HBoxModel",
          "model_module_version": "1.5.0",
          "state": {
            "_dom_classes": [],
            "_model_module": "@jupyter-widgets/controls",
            "_model_module_version": "1.5.0",
            "_model_name": "HBoxModel",
            "_view_count": null,
            "_view_module": "@jupyter-widgets/controls",
            "_view_module_version": "1.5.0",
            "_view_name": "HBoxView",
            "box_style": "",
            "children": [
              "IPY_MODEL_8ef2a9cf1bf04de9ad0667cb9ed59249",
              "IPY_MODEL_2614ada471ce46d6abdc346fe81e1bd0",
              "IPY_MODEL_265b21651e664342856414b8376d772e"
            ],
            "layout": "IPY_MODEL_1ee4d146234b406ca79159b1fa4145fd"
          }
        },
        "8ef2a9cf1bf04de9ad0667cb9ed59249": {
          "model_module": "@jupyter-widgets/controls",
          "model_name": "HTMLModel",
          "model_module_version": "1.5.0",
          "state": {
            "_dom_classes": [],
            "_model_module": "@jupyter-widgets/controls",
            "_model_module_version": "1.5.0",
            "_model_name": "HTMLModel",
            "_view_count": null,
            "_view_module": "@jupyter-widgets/controls",
            "_view_module_version": "1.5.0",
            "_view_name": "HTMLView",
            "description": "",
            "description_tooltip": null,
            "layout": "IPY_MODEL_dd31b06c598e47569af3fae2667a484a",
            "placeholder": "​",
            "style": "IPY_MODEL_969a98ddb6f04eeeb1bcc8c9ab6d1efc",
            "value": "100%"
          }
        },
        "2614ada471ce46d6abdc346fe81e1bd0": {
          "model_module": "@jupyter-widgets/controls",
          "model_name": "FloatProgressModel",
          "model_module_version": "1.5.0",
          "state": {
            "_dom_classes": [],
            "_model_module": "@jupyter-widgets/controls",
            "_model_module_version": "1.5.0",
            "_model_name": "FloatProgressModel",
            "_view_count": null,
            "_view_module": "@jupyter-widgets/controls",
            "_view_module_version": "1.5.0",
            "_view_name": "ProgressView",
            "bar_style": "success",
            "description": "",
            "description_tooltip": null,
            "layout": "IPY_MODEL_37dfdb94970f4480bc9f95f215810ae8",
            "max": 10,
            "min": 0,
            "orientation": "horizontal",
            "style": "IPY_MODEL_f507af3dab6f4d27a650512a14779c80",
            "value": 10
          }
        },
        "265b21651e664342856414b8376d772e": {
          "model_module": "@jupyter-widgets/controls",
          "model_name": "HTMLModel",
          "model_module_version": "1.5.0",
          "state": {
            "_dom_classes": [],
            "_model_module": "@jupyter-widgets/controls",
            "_model_module_version": "1.5.0",
            "_model_name": "HTMLModel",
            "_view_count": null,
            "_view_module": "@jupyter-widgets/controls",
            "_view_module_version": "1.5.0",
            "_view_name": "HTMLView",
            "description": "",
            "description_tooltip": null,
            "layout": "IPY_MODEL_963091693aa94e61a6bedb4fc5f2a718",
            "placeholder": "​",
            "style": "IPY_MODEL_f587f411433745dc95e47263a9c22496",
            "value": " 10/10 [03:00&lt;00:00, 17.67s/it]"
          }
        },
        "1ee4d146234b406ca79159b1fa4145fd": {
          "model_module": "@jupyter-widgets/base",
          "model_name": "LayoutModel",
          "model_module_version": "1.2.0",
          "state": {
            "_model_module": "@jupyter-widgets/base",
            "_model_module_version": "1.2.0",
            "_model_name": "LayoutModel",
            "_view_count": null,
            "_view_module": "@jupyter-widgets/base",
            "_view_module_version": "1.2.0",
            "_view_name": "LayoutView",
            "align_content": null,
            "align_items": null,
            "align_self": null,
            "border": null,
            "bottom": null,
            "display": null,
            "flex": null,
            "flex_flow": null,
            "grid_area": null,
            "grid_auto_columns": null,
            "grid_auto_flow": null,
            "grid_auto_rows": null,
            "grid_column": null,
            "grid_gap": null,
            "grid_row": null,
            "grid_template_areas": null,
            "grid_template_columns": null,
            "grid_template_rows": null,
            "height": null,
            "justify_content": null,
            "justify_items": null,
            "left": null,
            "margin": null,
            "max_height": null,
            "max_width": null,
            "min_height": null,
            "min_width": null,
            "object_fit": null,
            "object_position": null,
            "order": null,
            "overflow": null,
            "overflow_x": null,
            "overflow_y": null,
            "padding": null,
            "right": null,
            "top": null,
            "visibility": null,
            "width": null
          }
        },
        "dd31b06c598e47569af3fae2667a484a": {
          "model_module": "@jupyter-widgets/base",
          "model_name": "LayoutModel",
          "model_module_version": "1.2.0",
          "state": {
            "_model_module": "@jupyter-widgets/base",
            "_model_module_version": "1.2.0",
            "_model_name": "LayoutModel",
            "_view_count": null,
            "_view_module": "@jupyter-widgets/base",
            "_view_module_version": "1.2.0",
            "_view_name": "LayoutView",
            "align_content": null,
            "align_items": null,
            "align_self": null,
            "border": null,
            "bottom": null,
            "display": null,
            "flex": null,
            "flex_flow": null,
            "grid_area": null,
            "grid_auto_columns": null,
            "grid_auto_flow": null,
            "grid_auto_rows": null,
            "grid_column": null,
            "grid_gap": null,
            "grid_row": null,
            "grid_template_areas": null,
            "grid_template_columns": null,
            "grid_template_rows": null,
            "height": null,
            "justify_content": null,
            "justify_items": null,
            "left": null,
            "margin": null,
            "max_height": null,
            "max_width": null,
            "min_height": null,
            "min_width": null,
            "object_fit": null,
            "object_position": null,
            "order": null,
            "overflow": null,
            "overflow_x": null,
            "overflow_y": null,
            "padding": null,
            "right": null,
            "top": null,
            "visibility": null,
            "width": null
          }
        },
        "969a98ddb6f04eeeb1bcc8c9ab6d1efc": {
          "model_module": "@jupyter-widgets/controls",
          "model_name": "DescriptionStyleModel",
          "model_module_version": "1.5.0",
          "state": {
            "_model_module": "@jupyter-widgets/controls",
            "_model_module_version": "1.5.0",
            "_model_name": "DescriptionStyleModel",
            "_view_count": null,
            "_view_module": "@jupyter-widgets/base",
            "_view_module_version": "1.2.0",
            "_view_name": "StyleView",
            "description_width": ""
          }
        },
        "37dfdb94970f4480bc9f95f215810ae8": {
          "model_module": "@jupyter-widgets/base",
          "model_name": "LayoutModel",
          "model_module_version": "1.2.0",
          "state": {
            "_model_module": "@jupyter-widgets/base",
            "_model_module_version": "1.2.0",
            "_model_name": "LayoutModel",
            "_view_count": null,
            "_view_module": "@jupyter-widgets/base",
            "_view_module_version": "1.2.0",
            "_view_name": "LayoutView",
            "align_content": null,
            "align_items": null,
            "align_self": null,
            "border": null,
            "bottom": null,
            "display": null,
            "flex": null,
            "flex_flow": null,
            "grid_area": null,
            "grid_auto_columns": null,
            "grid_auto_flow": null,
            "grid_auto_rows": null,
            "grid_column": null,
            "grid_gap": null,
            "grid_row": null,
            "grid_template_areas": null,
            "grid_template_columns": null,
            "grid_template_rows": null,
            "height": null,
            "justify_content": null,
            "justify_items": null,
            "left": null,
            "margin": null,
            "max_height": null,
            "max_width": null,
            "min_height": null,
            "min_width": null,
            "object_fit": null,
            "object_position": null,
            "order": null,
            "overflow": null,
            "overflow_x": null,
            "overflow_y": null,
            "padding": null,
            "right": null,
            "top": null,
            "visibility": null,
            "width": null
          }
        },
        "f507af3dab6f4d27a650512a14779c80": {
          "model_module": "@jupyter-widgets/controls",
          "model_name": "ProgressStyleModel",
          "model_module_version": "1.5.0",
          "state": {
            "_model_module": "@jupyter-widgets/controls",
            "_model_module_version": "1.5.0",
            "_model_name": "ProgressStyleModel",
            "_view_count": null,
            "_view_module": "@jupyter-widgets/base",
            "_view_module_version": "1.2.0",
            "_view_name": "StyleView",
            "bar_color": null,
            "description_width": ""
          }
        },
        "963091693aa94e61a6bedb4fc5f2a718": {
          "model_module": "@jupyter-widgets/base",
          "model_name": "LayoutModel",
          "model_module_version": "1.2.0",
          "state": {
            "_model_module": "@jupyter-widgets/base",
            "_model_module_version": "1.2.0",
            "_model_name": "LayoutModel",
            "_view_count": null,
            "_view_module": "@jupyter-widgets/base",
            "_view_module_version": "1.2.0",
            "_view_name": "LayoutView",
            "align_content": null,
            "align_items": null,
            "align_self": null,
            "border": null,
            "bottom": null,
            "display": null,
            "flex": null,
            "flex_flow": null,
            "grid_area": null,
            "grid_auto_columns": null,
            "grid_auto_flow": null,
            "grid_auto_rows": null,
            "grid_column": null,
            "grid_gap": null,
            "grid_row": null,
            "grid_template_areas": null,
            "grid_template_columns": null,
            "grid_template_rows": null,
            "height": null,
            "justify_content": null,
            "justify_items": null,
            "left": null,
            "margin": null,
            "max_height": null,
            "max_width": null,
            "min_height": null,
            "min_width": null,
            "object_fit": null,
            "object_position": null,
            "order": null,
            "overflow": null,
            "overflow_x": null,
            "overflow_y": null,
            "padding": null,
            "right": null,
            "top": null,
            "visibility": null,
            "width": null
          }
        },
        "f587f411433745dc95e47263a9c22496": {
          "model_module": "@jupyter-widgets/controls",
          "model_name": "DescriptionStyleModel",
          "model_module_version": "1.5.0",
          "state": {
            "_model_module": "@jupyter-widgets/controls",
            "_model_module_version": "1.5.0",
            "_model_name": "DescriptionStyleModel",
            "_view_count": null,
            "_view_module": "@jupyter-widgets/base",
            "_view_module_version": "1.2.0",
            "_view_name": "StyleView",
            "description_width": ""
          }
        },
        "393aa08602354706b989ca9efe9e8b23": {
          "model_module": "@jupyter-widgets/controls",
          "model_name": "HBoxModel",
          "model_module_version": "1.5.0",
          "state": {
            "_dom_classes": [],
            "_model_module": "@jupyter-widgets/controls",
            "_model_module_version": "1.5.0",
            "_model_name": "HBoxModel",
            "_view_count": null,
            "_view_module": "@jupyter-widgets/controls",
            "_view_module_version": "1.5.0",
            "_view_name": "HBoxView",
            "box_style": "",
            "children": [
              "IPY_MODEL_b2efe3a1f46b46d88ab7c992141f0282",
              "IPY_MODEL_b08e32bc48fd4e4292609ddb291ede1f",
              "IPY_MODEL_94866df9e43d4f53b4d163cbed621ebc"
            ],
            "layout": "IPY_MODEL_8f9cc643be9b48f0af558a20ab4e1466"
          }
        },
        "b2efe3a1f46b46d88ab7c992141f0282": {
          "model_module": "@jupyter-widgets/controls",
          "model_name": "HTMLModel",
          "model_module_version": "1.5.0",
          "state": {
            "_dom_classes": [],
            "_model_module": "@jupyter-widgets/controls",
            "_model_module_version": "1.5.0",
            "_model_name": "HTMLModel",
            "_view_count": null,
            "_view_module": "@jupyter-widgets/controls",
            "_view_module_version": "1.5.0",
            "_view_name": "HTMLView",
            "description": "",
            "description_tooltip": null,
            "layout": "IPY_MODEL_4a316652634a43a78df6a321c8f7bcf7",
            "placeholder": "​",
            "style": "IPY_MODEL_5d18a2d26e0944fb84fa099025e345f0",
            "value": "100%"
          }
        },
        "b08e32bc48fd4e4292609ddb291ede1f": {
          "model_module": "@jupyter-widgets/controls",
          "model_name": "FloatProgressModel",
          "model_module_version": "1.5.0",
          "state": {
            "_dom_classes": [],
            "_model_module": "@jupyter-widgets/controls",
            "_model_module_version": "1.5.0",
            "_model_name": "FloatProgressModel",
            "_view_count": null,
            "_view_module": "@jupyter-widgets/controls",
            "_view_module_version": "1.5.0",
            "_view_name": "ProgressView",
            "bar_style": "success",
            "description": "",
            "description_tooltip": null,
            "layout": "IPY_MODEL_09b46075e01543cc97424540a7e3599a",
            "max": 10,
            "min": 0,
            "orientation": "horizontal",
            "style": "IPY_MODEL_db9db31189304e6482bd53538ece9e47",
            "value": 10
          }
        },
        "94866df9e43d4f53b4d163cbed621ebc": {
          "model_module": "@jupyter-widgets/controls",
          "model_name": "HTMLModel",
          "model_module_version": "1.5.0",
          "state": {
            "_dom_classes": [],
            "_model_module": "@jupyter-widgets/controls",
            "_model_module_version": "1.5.0",
            "_model_name": "HTMLModel",
            "_view_count": null,
            "_view_module": "@jupyter-widgets/controls",
            "_view_module_version": "1.5.0",
            "_view_name": "HTMLView",
            "description": "",
            "description_tooltip": null,
            "layout": "IPY_MODEL_e3f1319a0faf4038a5d17e8a6eb5df67",
            "placeholder": "​",
            "style": "IPY_MODEL_38de86fc61ab487a8befdcdbe411ddb2",
            "value": " 10/10 [05:01&lt;00:00, 30.03s/it]"
          }
        },
        "8f9cc643be9b48f0af558a20ab4e1466": {
          "model_module": "@jupyter-widgets/base",
          "model_name": "LayoutModel",
          "model_module_version": "1.2.0",
          "state": {
            "_model_module": "@jupyter-widgets/base",
            "_model_module_version": "1.2.0",
            "_model_name": "LayoutModel",
            "_view_count": null,
            "_view_module": "@jupyter-widgets/base",
            "_view_module_version": "1.2.0",
            "_view_name": "LayoutView",
            "align_content": null,
            "align_items": null,
            "align_self": null,
            "border": null,
            "bottom": null,
            "display": null,
            "flex": null,
            "flex_flow": null,
            "grid_area": null,
            "grid_auto_columns": null,
            "grid_auto_flow": null,
            "grid_auto_rows": null,
            "grid_column": null,
            "grid_gap": null,
            "grid_row": null,
            "grid_template_areas": null,
            "grid_template_columns": null,
            "grid_template_rows": null,
            "height": null,
            "justify_content": null,
            "justify_items": null,
            "left": null,
            "margin": null,
            "max_height": null,
            "max_width": null,
            "min_height": null,
            "min_width": null,
            "object_fit": null,
            "object_position": null,
            "order": null,
            "overflow": null,
            "overflow_x": null,
            "overflow_y": null,
            "padding": null,
            "right": null,
            "top": null,
            "visibility": null,
            "width": null
          }
        },
        "4a316652634a43a78df6a321c8f7bcf7": {
          "model_module": "@jupyter-widgets/base",
          "model_name": "LayoutModel",
          "model_module_version": "1.2.0",
          "state": {
            "_model_module": "@jupyter-widgets/base",
            "_model_module_version": "1.2.0",
            "_model_name": "LayoutModel",
            "_view_count": null,
            "_view_module": "@jupyter-widgets/base",
            "_view_module_version": "1.2.0",
            "_view_name": "LayoutView",
            "align_content": null,
            "align_items": null,
            "align_self": null,
            "border": null,
            "bottom": null,
            "display": null,
            "flex": null,
            "flex_flow": null,
            "grid_area": null,
            "grid_auto_columns": null,
            "grid_auto_flow": null,
            "grid_auto_rows": null,
            "grid_column": null,
            "grid_gap": null,
            "grid_row": null,
            "grid_template_areas": null,
            "grid_template_columns": null,
            "grid_template_rows": null,
            "height": null,
            "justify_content": null,
            "justify_items": null,
            "left": null,
            "margin": null,
            "max_height": null,
            "max_width": null,
            "min_height": null,
            "min_width": null,
            "object_fit": null,
            "object_position": null,
            "order": null,
            "overflow": null,
            "overflow_x": null,
            "overflow_y": null,
            "padding": null,
            "right": null,
            "top": null,
            "visibility": null,
            "width": null
          }
        },
        "5d18a2d26e0944fb84fa099025e345f0": {
          "model_module": "@jupyter-widgets/controls",
          "model_name": "DescriptionStyleModel",
          "model_module_version": "1.5.0",
          "state": {
            "_model_module": "@jupyter-widgets/controls",
            "_model_module_version": "1.5.0",
            "_model_name": "DescriptionStyleModel",
            "_view_count": null,
            "_view_module": "@jupyter-widgets/base",
            "_view_module_version": "1.2.0",
            "_view_name": "StyleView",
            "description_width": ""
          }
        },
        "09b46075e01543cc97424540a7e3599a": {
          "model_module": "@jupyter-widgets/base",
          "model_name": "LayoutModel",
          "model_module_version": "1.2.0",
          "state": {
            "_model_module": "@jupyter-widgets/base",
            "_model_module_version": "1.2.0",
            "_model_name": "LayoutModel",
            "_view_count": null,
            "_view_module": "@jupyter-widgets/base",
            "_view_module_version": "1.2.0",
            "_view_name": "LayoutView",
            "align_content": null,
            "align_items": null,
            "align_self": null,
            "border": null,
            "bottom": null,
            "display": null,
            "flex": null,
            "flex_flow": null,
            "grid_area": null,
            "grid_auto_columns": null,
            "grid_auto_flow": null,
            "grid_auto_rows": null,
            "grid_column": null,
            "grid_gap": null,
            "grid_row": null,
            "grid_template_areas": null,
            "grid_template_columns": null,
            "grid_template_rows": null,
            "height": null,
            "justify_content": null,
            "justify_items": null,
            "left": null,
            "margin": null,
            "max_height": null,
            "max_width": null,
            "min_height": null,
            "min_width": null,
            "object_fit": null,
            "object_position": null,
            "order": null,
            "overflow": null,
            "overflow_x": null,
            "overflow_y": null,
            "padding": null,
            "right": null,
            "top": null,
            "visibility": null,
            "width": null
          }
        },
        "db9db31189304e6482bd53538ece9e47": {
          "model_module": "@jupyter-widgets/controls",
          "model_name": "ProgressStyleModel",
          "model_module_version": "1.5.0",
          "state": {
            "_model_module": "@jupyter-widgets/controls",
            "_model_module_version": "1.5.0",
            "_model_name": "ProgressStyleModel",
            "_view_count": null,
            "_view_module": "@jupyter-widgets/base",
            "_view_module_version": "1.2.0",
            "_view_name": "StyleView",
            "bar_color": null,
            "description_width": ""
          }
        },
        "e3f1319a0faf4038a5d17e8a6eb5df67": {
          "model_module": "@jupyter-widgets/base",
          "model_name": "LayoutModel",
          "model_module_version": "1.2.0",
          "state": {
            "_model_module": "@jupyter-widgets/base",
            "_model_module_version": "1.2.0",
            "_model_name": "LayoutModel",
            "_view_count": null,
            "_view_module": "@jupyter-widgets/base",
            "_view_module_version": "1.2.0",
            "_view_name": "LayoutView",
            "align_content": null,
            "align_items": null,
            "align_self": null,
            "border": null,
            "bottom": null,
            "display": null,
            "flex": null,
            "flex_flow": null,
            "grid_area": null,
            "grid_auto_columns": null,
            "grid_auto_flow": null,
            "grid_auto_rows": null,
            "grid_column": null,
            "grid_gap": null,
            "grid_row": null,
            "grid_template_areas": null,
            "grid_template_columns": null,
            "grid_template_rows": null,
            "height": null,
            "justify_content": null,
            "justify_items": null,
            "left": null,
            "margin": null,
            "max_height": null,
            "max_width": null,
            "min_height": null,
            "min_width": null,
            "object_fit": null,
            "object_position": null,
            "order": null,
            "overflow": null,
            "overflow_x": null,
            "overflow_y": null,
            "padding": null,
            "right": null,
            "top": null,
            "visibility": null,
            "width": null
          }
        },
        "38de86fc61ab487a8befdcdbe411ddb2": {
          "model_module": "@jupyter-widgets/controls",
          "model_name": "DescriptionStyleModel",
          "model_module_version": "1.5.0",
          "state": {
            "_model_module": "@jupyter-widgets/controls",
            "_model_module_version": "1.5.0",
            "_model_name": "DescriptionStyleModel",
            "_view_count": null,
            "_view_module": "@jupyter-widgets/base",
            "_view_module_version": "1.2.0",
            "_view_name": "StyleView",
            "description_width": ""
          }
        },
        "25d258e6d7c749709da96c583039472f": {
          "model_module": "@jupyter-widgets/controls",
          "model_name": "HBoxModel",
          "model_module_version": "1.5.0",
          "state": {
            "_dom_classes": [],
            "_model_module": "@jupyter-widgets/controls",
            "_model_module_version": "1.5.0",
            "_model_name": "HBoxModel",
            "_view_count": null,
            "_view_module": "@jupyter-widgets/controls",
            "_view_module_version": "1.5.0",
            "_view_name": "HBoxView",
            "box_style": "",
            "children": [
              "IPY_MODEL_9270b14a3ee94c738a810c63062974f0",
              "IPY_MODEL_046e9584061f4023ab5ecc6b935bc63a",
              "IPY_MODEL_e0dad4130a264322b57de4ecdd55dd5f"
            ],
            "layout": "IPY_MODEL_21e941b92b2046c5b1f3cac4eeb99921"
          }
        },
        "9270b14a3ee94c738a810c63062974f0": {
          "model_module": "@jupyter-widgets/controls",
          "model_name": "HTMLModel",
          "model_module_version": "1.5.0",
          "state": {
            "_dom_classes": [],
            "_model_module": "@jupyter-widgets/controls",
            "_model_module_version": "1.5.0",
            "_model_name": "HTMLModel",
            "_view_count": null,
            "_view_module": "@jupyter-widgets/controls",
            "_view_module_version": "1.5.0",
            "_view_name": "HTMLView",
            "description": "",
            "description_tooltip": null,
            "layout": "IPY_MODEL_c61df9fc0d594066bf26c7ed3690a0bc",
            "placeholder": "​",
            "style": "IPY_MODEL_f143424b7884427bac27a4aaf3a66680",
            "value": "100%"
          }
        },
        "046e9584061f4023ab5ecc6b935bc63a": {
          "model_module": "@jupyter-widgets/controls",
          "model_name": "FloatProgressModel",
          "model_module_version": "1.5.0",
          "state": {
            "_dom_classes": [],
            "_model_module": "@jupyter-widgets/controls",
            "_model_module_version": "1.5.0",
            "_model_name": "FloatProgressModel",
            "_view_count": null,
            "_view_module": "@jupyter-widgets/controls",
            "_view_module_version": "1.5.0",
            "_view_name": "ProgressView",
            "bar_style": "success",
            "description": "",
            "description_tooltip": null,
            "layout": "IPY_MODEL_bf373c338dda40e78e9c14ccd402cb62",
            "max": 30,
            "min": 0,
            "orientation": "horizontal",
            "style": "IPY_MODEL_db5bf782cf2e4fd4be2792e6301c2ce1",
            "value": 30
          }
        },
        "e0dad4130a264322b57de4ecdd55dd5f": {
          "model_module": "@jupyter-widgets/controls",
          "model_name": "HTMLModel",
          "model_module_version": "1.5.0",
          "state": {
            "_dom_classes": [],
            "_model_module": "@jupyter-widgets/controls",
            "_model_module_version": "1.5.0",
            "_model_name": "HTMLModel",
            "_view_count": null,
            "_view_module": "@jupyter-widgets/controls",
            "_view_module_version": "1.5.0",
            "_view_name": "HTMLView",
            "description": "",
            "description_tooltip": null,
            "layout": "IPY_MODEL_bdf84dd089c44cbeadfa10bb4cad01ef",
            "placeholder": "​",
            "style": "IPY_MODEL_2bd16e95b3364ce88050022921ee8d7a",
            "value": " 30/30 [09:12&lt;00:00, 18.19s/it]"
          }
        },
        "21e941b92b2046c5b1f3cac4eeb99921": {
          "model_module": "@jupyter-widgets/base",
          "model_name": "LayoutModel",
          "model_module_version": "1.2.0",
          "state": {
            "_model_module": "@jupyter-widgets/base",
            "_model_module_version": "1.2.0",
            "_model_name": "LayoutModel",
            "_view_count": null,
            "_view_module": "@jupyter-widgets/base",
            "_view_module_version": "1.2.0",
            "_view_name": "LayoutView",
            "align_content": null,
            "align_items": null,
            "align_self": null,
            "border": null,
            "bottom": null,
            "display": null,
            "flex": null,
            "flex_flow": null,
            "grid_area": null,
            "grid_auto_columns": null,
            "grid_auto_flow": null,
            "grid_auto_rows": null,
            "grid_column": null,
            "grid_gap": null,
            "grid_row": null,
            "grid_template_areas": null,
            "grid_template_columns": null,
            "grid_template_rows": null,
            "height": null,
            "justify_content": null,
            "justify_items": null,
            "left": null,
            "margin": null,
            "max_height": null,
            "max_width": null,
            "min_height": null,
            "min_width": null,
            "object_fit": null,
            "object_position": null,
            "order": null,
            "overflow": null,
            "overflow_x": null,
            "overflow_y": null,
            "padding": null,
            "right": null,
            "top": null,
            "visibility": null,
            "width": null
          }
        },
        "c61df9fc0d594066bf26c7ed3690a0bc": {
          "model_module": "@jupyter-widgets/base",
          "model_name": "LayoutModel",
          "model_module_version": "1.2.0",
          "state": {
            "_model_module": "@jupyter-widgets/base",
            "_model_module_version": "1.2.0",
            "_model_name": "LayoutModel",
            "_view_count": null,
            "_view_module": "@jupyter-widgets/base",
            "_view_module_version": "1.2.0",
            "_view_name": "LayoutView",
            "align_content": null,
            "align_items": null,
            "align_self": null,
            "border": null,
            "bottom": null,
            "display": null,
            "flex": null,
            "flex_flow": null,
            "grid_area": null,
            "grid_auto_columns": null,
            "grid_auto_flow": null,
            "grid_auto_rows": null,
            "grid_column": null,
            "grid_gap": null,
            "grid_row": null,
            "grid_template_areas": null,
            "grid_template_columns": null,
            "grid_template_rows": null,
            "height": null,
            "justify_content": null,
            "justify_items": null,
            "left": null,
            "margin": null,
            "max_height": null,
            "max_width": null,
            "min_height": null,
            "min_width": null,
            "object_fit": null,
            "object_position": null,
            "order": null,
            "overflow": null,
            "overflow_x": null,
            "overflow_y": null,
            "padding": null,
            "right": null,
            "top": null,
            "visibility": null,
            "width": null
          }
        },
        "f143424b7884427bac27a4aaf3a66680": {
          "model_module": "@jupyter-widgets/controls",
          "model_name": "DescriptionStyleModel",
          "model_module_version": "1.5.0",
          "state": {
            "_model_module": "@jupyter-widgets/controls",
            "_model_module_version": "1.5.0",
            "_model_name": "DescriptionStyleModel",
            "_view_count": null,
            "_view_module": "@jupyter-widgets/base",
            "_view_module_version": "1.2.0",
            "_view_name": "StyleView",
            "description_width": ""
          }
        },
        "bf373c338dda40e78e9c14ccd402cb62": {
          "model_module": "@jupyter-widgets/base",
          "model_name": "LayoutModel",
          "model_module_version": "1.2.0",
          "state": {
            "_model_module": "@jupyter-widgets/base",
            "_model_module_version": "1.2.0",
            "_model_name": "LayoutModel",
            "_view_count": null,
            "_view_module": "@jupyter-widgets/base",
            "_view_module_version": "1.2.0",
            "_view_name": "LayoutView",
            "align_content": null,
            "align_items": null,
            "align_self": null,
            "border": null,
            "bottom": null,
            "display": null,
            "flex": null,
            "flex_flow": null,
            "grid_area": null,
            "grid_auto_columns": null,
            "grid_auto_flow": null,
            "grid_auto_rows": null,
            "grid_column": null,
            "grid_gap": null,
            "grid_row": null,
            "grid_template_areas": null,
            "grid_template_columns": null,
            "grid_template_rows": null,
            "height": null,
            "justify_content": null,
            "justify_items": null,
            "left": null,
            "margin": null,
            "max_height": null,
            "max_width": null,
            "min_height": null,
            "min_width": null,
            "object_fit": null,
            "object_position": null,
            "order": null,
            "overflow": null,
            "overflow_x": null,
            "overflow_y": null,
            "padding": null,
            "right": null,
            "top": null,
            "visibility": null,
            "width": null
          }
        },
        "db5bf782cf2e4fd4be2792e6301c2ce1": {
          "model_module": "@jupyter-widgets/controls",
          "model_name": "ProgressStyleModel",
          "model_module_version": "1.5.0",
          "state": {
            "_model_module": "@jupyter-widgets/controls",
            "_model_module_version": "1.5.0",
            "_model_name": "ProgressStyleModel",
            "_view_count": null,
            "_view_module": "@jupyter-widgets/base",
            "_view_module_version": "1.2.0",
            "_view_name": "StyleView",
            "bar_color": null,
            "description_width": ""
          }
        },
        "bdf84dd089c44cbeadfa10bb4cad01ef": {
          "model_module": "@jupyter-widgets/base",
          "model_name": "LayoutModel",
          "model_module_version": "1.2.0",
          "state": {
            "_model_module": "@jupyter-widgets/base",
            "_model_module_version": "1.2.0",
            "_model_name": "LayoutModel",
            "_view_count": null,
            "_view_module": "@jupyter-widgets/base",
            "_view_module_version": "1.2.0",
            "_view_name": "LayoutView",
            "align_content": null,
            "align_items": null,
            "align_self": null,
            "border": null,
            "bottom": null,
            "display": null,
            "flex": null,
            "flex_flow": null,
            "grid_area": null,
            "grid_auto_columns": null,
            "grid_auto_flow": null,
            "grid_auto_rows": null,
            "grid_column": null,
            "grid_gap": null,
            "grid_row": null,
            "grid_template_areas": null,
            "grid_template_columns": null,
            "grid_template_rows": null,
            "height": null,
            "justify_content": null,
            "justify_items": null,
            "left": null,
            "margin": null,
            "max_height": null,
            "max_width": null,
            "min_height": null,
            "min_width": null,
            "object_fit": null,
            "object_position": null,
            "order": null,
            "overflow": null,
            "overflow_x": null,
            "overflow_y": null,
            "padding": null,
            "right": null,
            "top": null,
            "visibility": null,
            "width": null
          }
        },
        "2bd16e95b3364ce88050022921ee8d7a": {
          "model_module": "@jupyter-widgets/controls",
          "model_name": "DescriptionStyleModel",
          "model_module_version": "1.5.0",
          "state": {
            "_model_module": "@jupyter-widgets/controls",
            "_model_module_version": "1.5.0",
            "_model_name": "DescriptionStyleModel",
            "_view_count": null,
            "_view_module": "@jupyter-widgets/base",
            "_view_module_version": "1.2.0",
            "_view_name": "StyleView",
            "description_width": ""
          }
        },
        "dadb7e47e7d74f439823ff6107db2833": {
          "model_module": "@jupyter-widgets/controls",
          "model_name": "HBoxModel",
          "model_module_version": "1.5.0",
          "state": {
            "_dom_classes": [],
            "_model_module": "@jupyter-widgets/controls",
            "_model_module_version": "1.5.0",
            "_model_name": "HBoxModel",
            "_view_count": null,
            "_view_module": "@jupyter-widgets/controls",
            "_view_module_version": "1.5.0",
            "_view_name": "HBoxView",
            "box_style": "",
            "children": [
              "IPY_MODEL_166ac51e63de4358a4b92f44738345bd",
              "IPY_MODEL_346de03cc2934a6fbdaa5f7c4b8d3ce6",
              "IPY_MODEL_a610885486f94d1c89c91c14d92b20bf"
            ],
            "layout": "IPY_MODEL_9fc8749f9e754421ba7b88a3f3046248"
          }
        },
        "166ac51e63de4358a4b92f44738345bd": {
          "model_module": "@jupyter-widgets/controls",
          "model_name": "HTMLModel",
          "model_module_version": "1.5.0",
          "state": {
            "_dom_classes": [],
            "_model_module": "@jupyter-widgets/controls",
            "_model_module_version": "1.5.0",
            "_model_name": "HTMLModel",
            "_view_count": null,
            "_view_module": "@jupyter-widgets/controls",
            "_view_module_version": "1.5.0",
            "_view_name": "HTMLView",
            "description": "",
            "description_tooltip": null,
            "layout": "IPY_MODEL_03c864c134d848a8859dbafc98e46c33",
            "placeholder": "​",
            "style": "IPY_MODEL_6ebc9f73a1894136b5c859a32109c0d9",
            "value": "100%"
          }
        },
        "346de03cc2934a6fbdaa5f7c4b8d3ce6": {
          "model_module": "@jupyter-widgets/controls",
          "model_name": "FloatProgressModel",
          "model_module_version": "1.5.0",
          "state": {
            "_dom_classes": [],
            "_model_module": "@jupyter-widgets/controls",
            "_model_module_version": "1.5.0",
            "_model_name": "FloatProgressModel",
            "_view_count": null,
            "_view_module": "@jupyter-widgets/controls",
            "_view_module_version": "1.5.0",
            "_view_name": "ProgressView",
            "bar_style": "success",
            "description": "",
            "description_tooltip": null,
            "layout": "IPY_MODEL_0d84b27c4de047fd9863c45b7cefce7e",
            "max": 30,
            "min": 0,
            "orientation": "horizontal",
            "style": "IPY_MODEL_daa08dd87ed64c4b90de72e523f5e752",
            "value": 30
          }
        },
        "a610885486f94d1c89c91c14d92b20bf": {
          "model_module": "@jupyter-widgets/controls",
          "model_name": "HTMLModel",
          "model_module_version": "1.5.0",
          "state": {
            "_dom_classes": [],
            "_model_module": "@jupyter-widgets/controls",
            "_model_module_version": "1.5.0",
            "_model_name": "HTMLModel",
            "_view_count": null,
            "_view_module": "@jupyter-widgets/controls",
            "_view_module_version": "1.5.0",
            "_view_name": "HTMLView",
            "description": "",
            "description_tooltip": null,
            "layout": "IPY_MODEL_ad71b8dac92d47f58ae3febade12e890",
            "placeholder": "​",
            "style": "IPY_MODEL_f762e7fc7e6c48a28b58bf5ea848d0d9",
            "value": " 30/30 [09:57&lt;00:00, 19.86s/it]"
          }
        },
        "9fc8749f9e754421ba7b88a3f3046248": {
          "model_module": "@jupyter-widgets/base",
          "model_name": "LayoutModel",
          "model_module_version": "1.2.0",
          "state": {
            "_model_module": "@jupyter-widgets/base",
            "_model_module_version": "1.2.0",
            "_model_name": "LayoutModel",
            "_view_count": null,
            "_view_module": "@jupyter-widgets/base",
            "_view_module_version": "1.2.0",
            "_view_name": "LayoutView",
            "align_content": null,
            "align_items": null,
            "align_self": null,
            "border": null,
            "bottom": null,
            "display": null,
            "flex": null,
            "flex_flow": null,
            "grid_area": null,
            "grid_auto_columns": null,
            "grid_auto_flow": null,
            "grid_auto_rows": null,
            "grid_column": null,
            "grid_gap": null,
            "grid_row": null,
            "grid_template_areas": null,
            "grid_template_columns": null,
            "grid_template_rows": null,
            "height": null,
            "justify_content": null,
            "justify_items": null,
            "left": null,
            "margin": null,
            "max_height": null,
            "max_width": null,
            "min_height": null,
            "min_width": null,
            "object_fit": null,
            "object_position": null,
            "order": null,
            "overflow": null,
            "overflow_x": null,
            "overflow_y": null,
            "padding": null,
            "right": null,
            "top": null,
            "visibility": null,
            "width": null
          }
        },
        "03c864c134d848a8859dbafc98e46c33": {
          "model_module": "@jupyter-widgets/base",
          "model_name": "LayoutModel",
          "model_module_version": "1.2.0",
          "state": {
            "_model_module": "@jupyter-widgets/base",
            "_model_module_version": "1.2.0",
            "_model_name": "LayoutModel",
            "_view_count": null,
            "_view_module": "@jupyter-widgets/base",
            "_view_module_version": "1.2.0",
            "_view_name": "LayoutView",
            "align_content": null,
            "align_items": null,
            "align_self": null,
            "border": null,
            "bottom": null,
            "display": null,
            "flex": null,
            "flex_flow": null,
            "grid_area": null,
            "grid_auto_columns": null,
            "grid_auto_flow": null,
            "grid_auto_rows": null,
            "grid_column": null,
            "grid_gap": null,
            "grid_row": null,
            "grid_template_areas": null,
            "grid_template_columns": null,
            "grid_template_rows": null,
            "height": null,
            "justify_content": null,
            "justify_items": null,
            "left": null,
            "margin": null,
            "max_height": null,
            "max_width": null,
            "min_height": null,
            "min_width": null,
            "object_fit": null,
            "object_position": null,
            "order": null,
            "overflow": null,
            "overflow_x": null,
            "overflow_y": null,
            "padding": null,
            "right": null,
            "top": null,
            "visibility": null,
            "width": null
          }
        },
        "6ebc9f73a1894136b5c859a32109c0d9": {
          "model_module": "@jupyter-widgets/controls",
          "model_name": "DescriptionStyleModel",
          "model_module_version": "1.5.0",
          "state": {
            "_model_module": "@jupyter-widgets/controls",
            "_model_module_version": "1.5.0",
            "_model_name": "DescriptionStyleModel",
            "_view_count": null,
            "_view_module": "@jupyter-widgets/base",
            "_view_module_version": "1.2.0",
            "_view_name": "StyleView",
            "description_width": ""
          }
        },
        "0d84b27c4de047fd9863c45b7cefce7e": {
          "model_module": "@jupyter-widgets/base",
          "model_name": "LayoutModel",
          "model_module_version": "1.2.0",
          "state": {
            "_model_module": "@jupyter-widgets/base",
            "_model_module_version": "1.2.0",
            "_model_name": "LayoutModel",
            "_view_count": null,
            "_view_module": "@jupyter-widgets/base",
            "_view_module_version": "1.2.0",
            "_view_name": "LayoutView",
            "align_content": null,
            "align_items": null,
            "align_self": null,
            "border": null,
            "bottom": null,
            "display": null,
            "flex": null,
            "flex_flow": null,
            "grid_area": null,
            "grid_auto_columns": null,
            "grid_auto_flow": null,
            "grid_auto_rows": null,
            "grid_column": null,
            "grid_gap": null,
            "grid_row": null,
            "grid_template_areas": null,
            "grid_template_columns": null,
            "grid_template_rows": null,
            "height": null,
            "justify_content": null,
            "justify_items": null,
            "left": null,
            "margin": null,
            "max_height": null,
            "max_width": null,
            "min_height": null,
            "min_width": null,
            "object_fit": null,
            "object_position": null,
            "order": null,
            "overflow": null,
            "overflow_x": null,
            "overflow_y": null,
            "padding": null,
            "right": null,
            "top": null,
            "visibility": null,
            "width": null
          }
        },
        "daa08dd87ed64c4b90de72e523f5e752": {
          "model_module": "@jupyter-widgets/controls",
          "model_name": "ProgressStyleModel",
          "model_module_version": "1.5.0",
          "state": {
            "_model_module": "@jupyter-widgets/controls",
            "_model_module_version": "1.5.0",
            "_model_name": "ProgressStyleModel",
            "_view_count": null,
            "_view_module": "@jupyter-widgets/base",
            "_view_module_version": "1.2.0",
            "_view_name": "StyleView",
            "bar_color": null,
            "description_width": ""
          }
        },
        "ad71b8dac92d47f58ae3febade12e890": {
          "model_module": "@jupyter-widgets/base",
          "model_name": "LayoutModel",
          "model_module_version": "1.2.0",
          "state": {
            "_model_module": "@jupyter-widgets/base",
            "_model_module_version": "1.2.0",
            "_model_name": "LayoutModel",
            "_view_count": null,
            "_view_module": "@jupyter-widgets/base",
            "_view_module_version": "1.2.0",
            "_view_name": "LayoutView",
            "align_content": null,
            "align_items": null,
            "align_self": null,
            "border": null,
            "bottom": null,
            "display": null,
            "flex": null,
            "flex_flow": null,
            "grid_area": null,
            "grid_auto_columns": null,
            "grid_auto_flow": null,
            "grid_auto_rows": null,
            "grid_column": null,
            "grid_gap": null,
            "grid_row": null,
            "grid_template_areas": null,
            "grid_template_columns": null,
            "grid_template_rows": null,
            "height": null,
            "justify_content": null,
            "justify_items": null,
            "left": null,
            "margin": null,
            "max_height": null,
            "max_width": null,
            "min_height": null,
            "min_width": null,
            "object_fit": null,
            "object_position": null,
            "order": null,
            "overflow": null,
            "overflow_x": null,
            "overflow_y": null,
            "padding": null,
            "right": null,
            "top": null,
            "visibility": null,
            "width": null
          }
        },
        "f762e7fc7e6c48a28b58bf5ea848d0d9": {
          "model_module": "@jupyter-widgets/controls",
          "model_name": "DescriptionStyleModel",
          "model_module_version": "1.5.0",
          "state": {
            "_model_module": "@jupyter-widgets/controls",
            "_model_module_version": "1.5.0",
            "_model_name": "DescriptionStyleModel",
            "_view_count": null,
            "_view_module": "@jupyter-widgets/base",
            "_view_module_version": "1.2.0",
            "_view_name": "StyleView",
            "description_width": ""
          }
        },
        "aaf50694e5e14d3ba78155b337098a17": {
          "model_module": "@jupyter-widgets/controls",
          "model_name": "HBoxModel",
          "model_module_version": "1.5.0",
          "state": {
            "_dom_classes": [],
            "_model_module": "@jupyter-widgets/controls",
            "_model_module_version": "1.5.0",
            "_model_name": "HBoxModel",
            "_view_count": null,
            "_view_module": "@jupyter-widgets/controls",
            "_view_module_version": "1.5.0",
            "_view_name": "HBoxView",
            "box_style": "",
            "children": [
              "IPY_MODEL_fcd97a7af6b1461fbbfb5160b8736de9",
              "IPY_MODEL_342beff0804e45608f3cfb4577bddcaf",
              "IPY_MODEL_a50005fe8d6f48b8914058d2b22dba56"
            ],
            "layout": "IPY_MODEL_cbbc5063887e40b1b4781bbe79a3c9a1"
          }
        },
        "fcd97a7af6b1461fbbfb5160b8736de9": {
          "model_module": "@jupyter-widgets/controls",
          "model_name": "HTMLModel",
          "model_module_version": "1.5.0",
          "state": {
            "_dom_classes": [],
            "_model_module": "@jupyter-widgets/controls",
            "_model_module_version": "1.5.0",
            "_model_name": "HTMLModel",
            "_view_count": null,
            "_view_module": "@jupyter-widgets/controls",
            "_view_module_version": "1.5.0",
            "_view_name": "HTMLView",
            "description": "",
            "description_tooltip": null,
            "layout": "IPY_MODEL_bdf165f4d0d4447892b1d92e07b15741",
            "placeholder": "​",
            "style": "IPY_MODEL_b66d797d5a4c4334b19b0c48b11f7d1f",
            "value": "100%"
          }
        },
        "342beff0804e45608f3cfb4577bddcaf": {
          "model_module": "@jupyter-widgets/controls",
          "model_name": "FloatProgressModel",
          "model_module_version": "1.5.0",
          "state": {
            "_dom_classes": [],
            "_model_module": "@jupyter-widgets/controls",
            "_model_module_version": "1.5.0",
            "_model_name": "FloatProgressModel",
            "_view_count": null,
            "_view_module": "@jupyter-widgets/controls",
            "_view_module_version": "1.5.0",
            "_view_name": "ProgressView",
            "bar_style": "success",
            "description": "",
            "description_tooltip": null,
            "layout": "IPY_MODEL_1fa94f030eef47b2a02381fd7b341b8f",
            "max": 30,
            "min": 0,
            "orientation": "horizontal",
            "style": "IPY_MODEL_e944e552664f45be85a905bc0acd5a7f",
            "value": 30
          }
        },
        "a50005fe8d6f48b8914058d2b22dba56": {
          "model_module": "@jupyter-widgets/controls",
          "model_name": "HTMLModel",
          "model_module_version": "1.5.0",
          "state": {
            "_dom_classes": [],
            "_model_module": "@jupyter-widgets/controls",
            "_model_module_version": "1.5.0",
            "_model_name": "HTMLModel",
            "_view_count": null,
            "_view_module": "@jupyter-widgets/controls",
            "_view_module_version": "1.5.0",
            "_view_name": "HTMLView",
            "description": "",
            "description_tooltip": null,
            "layout": "IPY_MODEL_01c399eaaff9406a9c67fb4c05e32333",
            "placeholder": "​",
            "style": "IPY_MODEL_fddc42be9dd14e59922579ace00faecc",
            "value": " 30/30 [16:30&lt;00:00, 32.94s/it]"
          }
        },
        "cbbc5063887e40b1b4781bbe79a3c9a1": {
          "model_module": "@jupyter-widgets/base",
          "model_name": "LayoutModel",
          "model_module_version": "1.2.0",
          "state": {
            "_model_module": "@jupyter-widgets/base",
            "_model_module_version": "1.2.0",
            "_model_name": "LayoutModel",
            "_view_count": null,
            "_view_module": "@jupyter-widgets/base",
            "_view_module_version": "1.2.0",
            "_view_name": "LayoutView",
            "align_content": null,
            "align_items": null,
            "align_self": null,
            "border": null,
            "bottom": null,
            "display": null,
            "flex": null,
            "flex_flow": null,
            "grid_area": null,
            "grid_auto_columns": null,
            "grid_auto_flow": null,
            "grid_auto_rows": null,
            "grid_column": null,
            "grid_gap": null,
            "grid_row": null,
            "grid_template_areas": null,
            "grid_template_columns": null,
            "grid_template_rows": null,
            "height": null,
            "justify_content": null,
            "justify_items": null,
            "left": null,
            "margin": null,
            "max_height": null,
            "max_width": null,
            "min_height": null,
            "min_width": null,
            "object_fit": null,
            "object_position": null,
            "order": null,
            "overflow": null,
            "overflow_x": null,
            "overflow_y": null,
            "padding": null,
            "right": null,
            "top": null,
            "visibility": null,
            "width": null
          }
        },
        "bdf165f4d0d4447892b1d92e07b15741": {
          "model_module": "@jupyter-widgets/base",
          "model_name": "LayoutModel",
          "model_module_version": "1.2.0",
          "state": {
            "_model_module": "@jupyter-widgets/base",
            "_model_module_version": "1.2.0",
            "_model_name": "LayoutModel",
            "_view_count": null,
            "_view_module": "@jupyter-widgets/base",
            "_view_module_version": "1.2.0",
            "_view_name": "LayoutView",
            "align_content": null,
            "align_items": null,
            "align_self": null,
            "border": null,
            "bottom": null,
            "display": null,
            "flex": null,
            "flex_flow": null,
            "grid_area": null,
            "grid_auto_columns": null,
            "grid_auto_flow": null,
            "grid_auto_rows": null,
            "grid_column": null,
            "grid_gap": null,
            "grid_row": null,
            "grid_template_areas": null,
            "grid_template_columns": null,
            "grid_template_rows": null,
            "height": null,
            "justify_content": null,
            "justify_items": null,
            "left": null,
            "margin": null,
            "max_height": null,
            "max_width": null,
            "min_height": null,
            "min_width": null,
            "object_fit": null,
            "object_position": null,
            "order": null,
            "overflow": null,
            "overflow_x": null,
            "overflow_y": null,
            "padding": null,
            "right": null,
            "top": null,
            "visibility": null,
            "width": null
          }
        },
        "b66d797d5a4c4334b19b0c48b11f7d1f": {
          "model_module": "@jupyter-widgets/controls",
          "model_name": "DescriptionStyleModel",
          "model_module_version": "1.5.0",
          "state": {
            "_model_module": "@jupyter-widgets/controls",
            "_model_module_version": "1.5.0",
            "_model_name": "DescriptionStyleModel",
            "_view_count": null,
            "_view_module": "@jupyter-widgets/base",
            "_view_module_version": "1.2.0",
            "_view_name": "StyleView",
            "description_width": ""
          }
        },
        "1fa94f030eef47b2a02381fd7b341b8f": {
          "model_module": "@jupyter-widgets/base",
          "model_name": "LayoutModel",
          "model_module_version": "1.2.0",
          "state": {
            "_model_module": "@jupyter-widgets/base",
            "_model_module_version": "1.2.0",
            "_model_name": "LayoutModel",
            "_view_count": null,
            "_view_module": "@jupyter-widgets/base",
            "_view_module_version": "1.2.0",
            "_view_name": "LayoutView",
            "align_content": null,
            "align_items": null,
            "align_self": null,
            "border": null,
            "bottom": null,
            "display": null,
            "flex": null,
            "flex_flow": null,
            "grid_area": null,
            "grid_auto_columns": null,
            "grid_auto_flow": null,
            "grid_auto_rows": null,
            "grid_column": null,
            "grid_gap": null,
            "grid_row": null,
            "grid_template_areas": null,
            "grid_template_columns": null,
            "grid_template_rows": null,
            "height": null,
            "justify_content": null,
            "justify_items": null,
            "left": null,
            "margin": null,
            "max_height": null,
            "max_width": null,
            "min_height": null,
            "min_width": null,
            "object_fit": null,
            "object_position": null,
            "order": null,
            "overflow": null,
            "overflow_x": null,
            "overflow_y": null,
            "padding": null,
            "right": null,
            "top": null,
            "visibility": null,
            "width": null
          }
        },
        "e944e552664f45be85a905bc0acd5a7f": {
          "model_module": "@jupyter-widgets/controls",
          "model_name": "ProgressStyleModel",
          "model_module_version": "1.5.0",
          "state": {
            "_model_module": "@jupyter-widgets/controls",
            "_model_module_version": "1.5.0",
            "_model_name": "ProgressStyleModel",
            "_view_count": null,
            "_view_module": "@jupyter-widgets/base",
            "_view_module_version": "1.2.0",
            "_view_name": "StyleView",
            "bar_color": null,
            "description_width": ""
          }
        },
        "01c399eaaff9406a9c67fb4c05e32333": {
          "model_module": "@jupyter-widgets/base",
          "model_name": "LayoutModel",
          "model_module_version": "1.2.0",
          "state": {
            "_model_module": "@jupyter-widgets/base",
            "_model_module_version": "1.2.0",
            "_model_name": "LayoutModel",
            "_view_count": null,
            "_view_module": "@jupyter-widgets/base",
            "_view_module_version": "1.2.0",
            "_view_name": "LayoutView",
            "align_content": null,
            "align_items": null,
            "align_self": null,
            "border": null,
            "bottom": null,
            "display": null,
            "flex": null,
            "flex_flow": null,
            "grid_area": null,
            "grid_auto_columns": null,
            "grid_auto_flow": null,
            "grid_auto_rows": null,
            "grid_column": null,
            "grid_gap": null,
            "grid_row": null,
            "grid_template_areas": null,
            "grid_template_columns": null,
            "grid_template_rows": null,
            "height": null,
            "justify_content": null,
            "justify_items": null,
            "left": null,
            "margin": null,
            "max_height": null,
            "max_width": null,
            "min_height": null,
            "min_width": null,
            "object_fit": null,
            "object_position": null,
            "order": null,
            "overflow": null,
            "overflow_x": null,
            "overflow_y": null,
            "padding": null,
            "right": null,
            "top": null,
            "visibility": null,
            "width": null
          }
        },
        "fddc42be9dd14e59922579ace00faecc": {
          "model_module": "@jupyter-widgets/controls",
          "model_name": "DescriptionStyleModel",
          "model_module_version": "1.5.0",
          "state": {
            "_model_module": "@jupyter-widgets/controls",
            "_model_module_version": "1.5.0",
            "_model_name": "DescriptionStyleModel",
            "_view_count": null,
            "_view_module": "@jupyter-widgets/base",
            "_view_module_version": "1.2.0",
            "_view_name": "StyleView",
            "description_width": ""
          }
        }
      }
    },
    "accelerator": "GPU"
  },
  "nbformat": 4,
  "nbformat_minor": 0
}